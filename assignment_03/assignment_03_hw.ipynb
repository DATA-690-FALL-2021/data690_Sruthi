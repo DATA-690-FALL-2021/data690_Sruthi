{
  "nbformat": 4,
  "nbformat_minor": 0,
  "metadata": {
    "colab": {
      "name": "assignment_03_hw.ipynb",
      "provenance": [],
      "authorship_tag": "ABX9TyNxisTI4OLN6k3Gfd84Up6R",
      "include_colab_link": true
    },
    "kernelspec": {
      "name": "python3",
      "display_name": "Python 3"
    },
    "language_info": {
      "name": "python"
    }
  },
  "cells": [
    {
      "cell_type": "markdown",
      "metadata": {
        "id": "view-in-github",
        "colab_type": "text"
      },
      "source": [
        "<a href=\"https://colab.research.google.com/github/sruthib22/data690_Sruthi/blob/main/assignment_03/assignment_03_hw.ipynb\" target=\"_parent\"><img src=\"https://colab.research.google.com/assets/colab-badge.svg\" alt=\"Open In Colab\"/></a>"
      ]
    },
    {
      "cell_type": "markdown",
      "metadata": {
        "id": "JmvzHpj_Tonw"
      },
      "source": [
        "## 1. Problem 1"
      ]
    },
    {
      "cell_type": "code",
      "metadata": {
        "colab": {
          "base_uri": "https://localhost:8080/"
        },
        "id": "uryu0p2JTjRP",
        "outputId": "0f9a3692-251d-4069-83e6-847479cabb34"
      },
      "source": [
        "import random\n",
        "\n",
        "for i in range(10):\n",
        "  for j in range(10):\n",
        "    x = random.randint(0,9)\n",
        "    print(x, end = \" \")\n",
        "  print(\"\\n\", end =\" \")\n"
      ],
      "execution_count": null,
      "outputs": [
        {
          "output_type": "stream",
          "name": "stdout",
          "text": [
            "8 0 9 7 7 4 7 6 5 6 \n",
            " 9 2 3 3 8 9 6 2 4 3 \n",
            " 2 0 2 1 9 2 9 7 5 3 \n",
            " 3 0 6 1 6 3 8 2 8 7 \n",
            " 7 1 9 4 1 1 0 8 8 3 \n",
            " 5 9 5 8 9 4 7 8 4 9 \n",
            " 0 9 8 9 6 4 0 9 8 8 \n",
            " 7 4 4 9 7 0 5 3 6 0 \n",
            " 7 0 7 2 4 2 8 6 1 9 \n",
            " 0 5 9 7 4 3 0 2 3 4 \n",
            " "
          ]
        }
      ]
    },
    {
      "cell_type": "markdown",
      "metadata": {
        "id": "jiSWSedAYttO"
      },
      "source": [
        "## 2. random numbers where odd numbers are replaced by @"
      ]
    },
    {
      "cell_type": "code",
      "metadata": {
        "id": "ZeErIXR-Ys_7",
        "colab": {
          "base_uri": "https://localhost:8080/"
        },
        "outputId": "ab6323c1-4417-4019-94d0-8fc8d3061eb7"
      },
      "source": [
        "import random\n",
        "\n",
        "for i in range(10):\n",
        "  for j in range(10):\n",
        "    x = random.randint(0,9)\n",
        "    if x % 2 !=0:\n",
        "      print(\"@\", end = \" \")\n",
        "    else:\n",
        "      print(x, end=\" \")\n",
        "  print(\"\\n\", end =\" \")\n"
      ],
      "execution_count": null,
      "outputs": [
        {
          "output_type": "stream",
          "name": "stdout",
          "text": [
            "@ 4 0 8 @ @ @ 4 0 2 \n",
            " 2 0 2 @ 2 0 0 2 6 0 \n",
            " 4 0 4 2 @ @ @ @ 4 8 \n",
            " 8 8 @ 8 4 2 0 4 @ @ \n",
            " 4 2 8 @ 0 @ 4 4 4 @ \n",
            " @ 0 6 0 8 6 2 @ @ 2 \n",
            " 0 8 @ 8 2 @ @ @ @ 0 \n",
            " 0 4 @ 4 2 @ @ @ @ @ \n",
            " @ @ 4 2 8 8 @ 4 @ @ \n",
            " @ 6 4 @ @ 2 6 0 @ 4 \n",
            " "
          ]
        }
      ]
    },
    {
      "cell_type": "markdown",
      "metadata": {
        "id": "Ziv50F0MZdJt"
      },
      "source": [
        "## 3. print the total at the end"
      ]
    },
    {
      "cell_type": "code",
      "metadata": {
        "id": "uEEG6VGaZQk_",
        "colab": {
          "base_uri": "https://localhost:8080/"
        },
        "outputId": "aea07f51-ea02-464a-c611-75077953131c"
      },
      "source": [
        "import random\n",
        "\n",
        "for i in range(10):\n",
        "  my_sum =0\n",
        "  for j in range(10):\n",
        "    x = random.randint(0,9)\n",
        "    my_sum = my_sum + x\n",
        "    print(x, end=\" \")\n",
        "  print(\"*\", end=\" \")\n",
        "  print(my_sum, end=\" \")\n",
        "  print(\"\\n\", end=' ')\n",
        "\n",
        "\n"
      ],
      "execution_count": null,
      "outputs": [
        {
          "output_type": "stream",
          "name": "stdout",
          "text": [
            "9 3 0 1 4 1 5 6 8 6 * 43 \n",
            " 7 1 2 5 3 3 0 3 3 8 * 35 \n",
            " 0 4 7 3 1 4 8 1 1 1 * 30 \n",
            " 4 5 9 0 3 1 6 4 8 1 * 41 \n",
            " 1 3 1 6 9 5 2 1 4 0 * 32 \n",
            " 6 9 3 2 6 2 4 1 2 7 * 42 \n",
            " 5 9 2 5 6 2 5 6 3 2 * 45 \n",
            " 2 0 6 9 5 1 1 9 0 7 * 40 \n",
            " 1 7 7 7 7 4 2 7 2 7 * 51 \n",
            " 6 3 4 0 0 2 1 5 0 5 * 26 \n",
            " "
          ]
        }
      ]
    },
    {
      "cell_type": "markdown",
      "metadata": {
        "id": "EDxxC8UCcZks"
      },
      "source": [
        "## 4. surround the matricx with *"
      ]
    },
    {
      "cell_type": "code",
      "metadata": {
        "id": "d2CfZwVffW78",
        "outputId": "f8a3d059-969a-45fa-c932-79d0d5592b02",
        "colab": {
          "base_uri": "https://localhost:8080/"
        }
      },
      "source": [
        "import random\n",
        "\n",
        "\n",
        "print(\" \",\"********************\")\n",
        "for i in range(10):\n",
        "  print(\"*\",end=\" \")\n",
        "  for j in range(10):\n",
        "    x = random.randint(0,9)\n",
        "    print(x, end = \" \")\n",
        "  print(\"*\", end=\" \")  \n",
        "  print(\"\\n\", end =\" \")\n",
        "print(\" \",\"********************\")"
      ],
      "execution_count": 18,
      "outputs": [
        {
          "output_type": "stream",
          "name": "stdout",
          "text": [
            "  ********************\n",
            "* 9 6 2 2 4 7 9 1 4 5 * \n",
            " * 2 2 3 5 5 5 2 4 0 3 * \n",
            " * 1 4 5 8 8 6 3 3 6 6 * \n",
            " * 1 1 5 6 6 2 7 6 3 8 * \n",
            " * 7 1 6 6 1 0 4 9 0 5 * \n",
            " * 7 1 2 4 8 5 1 4 1 3 * \n",
            " * 0 8 8 3 3 9 4 7 2 0 * \n",
            " * 3 2 0 7 8 9 3 4 1 8 * \n",
            " * 9 7 1 3 1 1 1 1 2 5 * \n",
            " * 2 0 6 2 7 7 2 2 2 1 * \n",
            "   ********************\n"
          ]
        }
      ]
    },
    {
      "cell_type": "markdown",
      "metadata": {
        "id": "xR5_l4YC_-58"
      },
      "source": [
        "## 5. calculate the sum for each row and column"
      ]
    },
    {
      "cell_type": "code",
      "metadata": {
        "id": "twiGD-uFfinl",
        "outputId": "60efa387-2cac-4e4a-fc48-5d6f6b91a54a",
        "colab": {
          "base_uri": "https://localhost:8080/",
          "height": 246
        }
      },
      "source": [
        "import random\n",
        "\n",
        "for i in range(10):\n",
        "  my_sum =0\n",
        "  for j in range(10):\n",
        "    x = random.randint(0,9)\n",
        "    my_sum = my_sum + x\n",
        "    print(x, end=\" \")\n",
        "  for k in range(10):\n",
        "      my_list.append(x)\n",
        "  print(\"*\", end=\" \")\n",
        "  print(my_sum, end=\" \")\n",
        "  print(\"\\n\", end=' ')\n"
      ],
      "execution_count": 16,
      "outputs": [
        {
          "output_type": "stream",
          "name": "stdout",
          "text": [
            "8 0 9 4 0 9 9 7 5 4 "
          ]
        },
        {
          "output_type": "error",
          "ename": "NameError",
          "evalue": "ignored",
          "traceback": [
            "\u001b[0;31m---------------------------------------------------------------------------\u001b[0m",
            "\u001b[0;31mNameError\u001b[0m                                 Traceback (most recent call last)",
            "\u001b[0;32m<ipython-input-16-688ab7f77a40>\u001b[0m in \u001b[0;36m<module>\u001b[0;34m()\u001b[0m\n\u001b[1;32m      8\u001b[0m     \u001b[0mprint\u001b[0m\u001b[0;34m(\u001b[0m\u001b[0mx\u001b[0m\u001b[0;34m,\u001b[0m \u001b[0mend\u001b[0m\u001b[0;34m=\u001b[0m\u001b[0;34m\" \"\u001b[0m\u001b[0;34m)\u001b[0m\u001b[0;34m\u001b[0m\u001b[0;34m\u001b[0m\u001b[0m\n\u001b[1;32m      9\u001b[0m   \u001b[0;32mfor\u001b[0m \u001b[0mk\u001b[0m \u001b[0;32min\u001b[0m \u001b[0mrange\u001b[0m\u001b[0;34m(\u001b[0m\u001b[0;36m10\u001b[0m\u001b[0;34m)\u001b[0m\u001b[0;34m:\u001b[0m\u001b[0;34m\u001b[0m\u001b[0;34m\u001b[0m\u001b[0m\n\u001b[0;32m---> 10\u001b[0;31m       \u001b[0mmy_list\u001b[0m\u001b[0;34m.\u001b[0m\u001b[0mappend\u001b[0m\u001b[0;34m(\u001b[0m\u001b[0mx\u001b[0m\u001b[0;34m)\u001b[0m\u001b[0;34m\u001b[0m\u001b[0;34m\u001b[0m\u001b[0m\n\u001b[0m\u001b[1;32m     11\u001b[0m   \u001b[0mprint\u001b[0m\u001b[0;34m(\u001b[0m\u001b[0;34m\"*\"\u001b[0m\u001b[0;34m,\u001b[0m \u001b[0mend\u001b[0m\u001b[0;34m=\u001b[0m\u001b[0;34m\" \"\u001b[0m\u001b[0;34m)\u001b[0m\u001b[0;34m\u001b[0m\u001b[0;34m\u001b[0m\u001b[0m\n\u001b[1;32m     12\u001b[0m   \u001b[0mprint\u001b[0m\u001b[0;34m(\u001b[0m\u001b[0mmy_sum\u001b[0m\u001b[0;34m,\u001b[0m \u001b[0mend\u001b[0m\u001b[0;34m=\u001b[0m\u001b[0;34m\" \"\u001b[0m\u001b[0;34m)\u001b[0m\u001b[0;34m\u001b[0m\u001b[0;34m\u001b[0m\u001b[0m\n",
            "\u001b[0;31mNameError\u001b[0m: name 'my_list' is not defined"
          ]
        }
      ]
    },
    {
      "cell_type": "code",
      "metadata": {
        "id": "YgoCi3HNI1V4"
      },
      "source": [
        ""
      ],
      "execution_count": null,
      "outputs": []
    }
  ]
}