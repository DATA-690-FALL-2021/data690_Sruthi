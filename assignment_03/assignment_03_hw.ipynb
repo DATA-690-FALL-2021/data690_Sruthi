{
  "nbformat": 4,
  "nbformat_minor": 0,
  "metadata": {
    "colab": {
      "name": "assignment_03_hw.ipynb",
      "provenance": [],
      "authorship_tag": "ABX9TyPqMQt1HjXQDX3ZkdTY3ebK",
      "include_colab_link": true
    },
    "kernelspec": {
      "name": "python3",
      "display_name": "Python 3"
    },
    "language_info": {
      "name": "python"
    }
  },
  "cells": [
    {
      "cell_type": "markdown",
      "metadata": {
        "id": "view-in-github",
        "colab_type": "text"
      },
      "source": [
        "<a href=\"https://colab.research.google.com/github/sruthib22/data690_Sruthi/blob/main/assignment_03/assignment_03_hw.ipynb\" target=\"_parent\"><img src=\"https://colab.research.google.com/assets/colab-badge.svg\" alt=\"Open In Colab\"/></a>"
      ]
    },
    {
      "cell_type": "markdown",
      "metadata": {
        "id": "JmvzHpj_Tonw"
      },
      "source": [
        "## 1. Problem 1"
      ]
    },
    {
      "cell_type": "code",
      "metadata": {
        "colab": {
          "base_uri": "https://localhost:8080/"
        },
        "id": "uryu0p2JTjRP",
        "outputId": "2676cd82-7df2-48af-d1b0-a41c76c0fa1e"
      },
      "source": [
        "import random\n",
        "\n",
        "for i in range(10):\n",
        "  for j in range(10):\n",
        "    x = random.randint(0,10)\n",
        "    print(x, end=\" \")\n",
        "  print(\"\\n\")\n"
      ],
      "execution_count": 2,
      "outputs": [
        {
          "output_type": "stream",
          "name": "stdout",
          "text": [
            "3 5 5 3 3 8 9 10 8 8 \n",
            "\n",
            "1 7 3 4 6 10 8 9 0 6 \n",
            "\n",
            "4 3 7 2 1 8 9 9 0 5 \n",
            "\n",
            "2 8 10 8 7 0 5 8 4 8 \n",
            "\n",
            "7 7 1 1 4 1 1 0 6 7 \n",
            "\n",
            "8 9 8 7 8 7 9 5 0 9 \n",
            "\n",
            "5 0 0 10 4 7 3 1 6 9 \n",
            "\n",
            "5 3 6 9 0 4 2 9 8 10 \n",
            "\n",
            "4 0 0 2 3 2 5 2 4 8 \n",
            "\n",
            "5 3 6 7 0 2 7 6 9 8 \n",
            "\n"
          ]
        }
      ]
    }
  ]
}