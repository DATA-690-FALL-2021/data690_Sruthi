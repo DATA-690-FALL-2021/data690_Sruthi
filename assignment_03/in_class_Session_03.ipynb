{
  "nbformat": 4,
  "nbformat_minor": 0,
  "metadata": {
    "colab": {
      "name": "in_class_Session_03.ipynb",
      "provenance": [],
      "collapsed_sections": [],
      "authorship_tag": "ABX9TyOhvGlWZGXjpVOxbrg498wv",
      "include_colab_link": true
    },
    "kernelspec": {
      "name": "python3",
      "display_name": "Python 3"
    },
    "language_info": {
      "name": "python"
    }
  },
  "cells": [
    {
      "cell_type": "markdown",
      "metadata": {
        "id": "view-in-github",
        "colab_type": "text"
      },
      "source": [
        "<a href=\"https://colab.research.google.com/github/sruthib22/data690_Sruthi/blob/main/assignment_03/in_class_Session_03.ipynb\" target=\"_parent\"><img src=\"https://colab.research.google.com/assets/colab-badge.svg\" alt=\"Open In Colab\"/></a>"
      ]
    },
    {
      "cell_type": "markdown",
      "metadata": {
        "id": "sfGADEfD8Xf_"
      },
      "source": [
        "# Session 3 in class practice\n",
        "\n",
        "- sruthi batchala\n",
        "- september 16"
      ]
    },
    {
      "cell_type": "markdown",
      "metadata": {
        "id": "74pRsKbm83ml"
      },
      "source": [
        "## 1. List comprehension\n"
      ]
    },
    {
      "cell_type": "code",
      "metadata": {
        "colab": {
          "base_uri": "https://localhost:8080/"
        },
        "id": "LbmTnxIX5lZx",
        "outputId": "c7ff22e6-c824-42cd-ede4-9f257a46e541"
      },
      "source": [
        "# this is the traditional way of using for loop\n",
        "x = [2, 5, -7, 10, 12]\n",
        "\n",
        "y = []\n",
        "\n",
        "for i in x:\n",
        "  #new_number = i+10\n",
        "  y.append(i+10)\n",
        "\n",
        "print(y)\n"
      ],
      "execution_count": 3,
      "outputs": [
        {
          "output_type": "stream",
          "name": "stdout",
          "text": [
            "[12, 15, 3, 20, 22]\n"
          ]
        }
      ]
    },
    {
      "cell_type": "code",
      "metadata": {
        "colab": {
          "base_uri": "https://localhost:8080/"
        },
        "id": "1kSq2gVy-YkP",
        "outputId": "62a64168-4ae5-418e-ba8b-17c134ff4de2"
      },
      "source": [
        "# new way of using list comprehension\n",
        "\n",
        "y = [i+10 for i in x]\n",
        "\n",
        "print(y)"
      ],
      "execution_count": 5,
      "outputs": [
        {
          "output_type": "stream",
          "name": "stdout",
          "text": [
            "[12, 15, 3, 20, 22]\n"
          ]
        }
      ]
    },
    {
      "cell_type": "markdown",
      "metadata": {
        "id": "WKLcjATF-0x9"
      },
      "source": [
        "## 2. user-defined function\n"
      ]
    },
    {
      "cell_type": "markdown",
      "metadata": {
        "id": "NcAmwUr2AUEq"
      },
      "source": [
        "- addition"
      ]
    },
    {
      "cell_type": "code",
      "metadata": {
        "id": "sYXIYon7-7aT"
      },
      "source": [
        "def addition(a,b):\n",
        "      return a+b\n",
        "#print(addition(3,5))"
      ],
      "execution_count": 7,
      "outputs": []
    },
    {
      "cell_type": "code",
      "metadata": {
        "colab": {
          "base_uri": "https://localhost:8080/"
        },
        "id": "1nnG5t_b_uCJ",
        "outputId": "233780f1-9eec-43da-d51b-d70051ad2cda"
      },
      "source": [
        "y = addition(5,10)\n",
        "print(y)"
      ],
      "execution_count": 8,
      "outputs": [
        {
          "output_type": "stream",
          "name": "stdout",
          "text": [
            "15\n"
          ]
        }
      ]
    },
    {
      "cell_type": "markdown",
      "metadata": {
        "id": "JMq7cTLnAQeL"
      },
      "source": [
        "- division\n"
      ]
    },
    {
      "cell_type": "code",
      "metadata": {
        "colab": {
          "base_uri": "https://localhost:8080/"
        },
        "id": "glG_z-9x_33f",
        "outputId": "fa5df178-3645-4a96-c069-9add4bc14c98"
      },
      "source": [
        "def division(a,b):\n",
        "  return a//b #for int\n",
        "  #return a/b for float\n",
        "\n",
        "print(division(5,2))"
      ],
      "execution_count": 11,
      "outputs": [
        {
          "output_type": "stream",
          "name": "stdout",
          "text": [
            "2\n"
          ]
        }
      ]
    }
  ]
}