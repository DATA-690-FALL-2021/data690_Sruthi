{
  "nbformat": 4,
  "nbformat_minor": 0,
  "metadata": {
    "colab": {
      "name": "in_class_Session_03.ipynb",
      "provenance": [],
      "collapsed_sections": [],
      "authorship_tag": "ABX9TyOl2eTXUtrQIEFSTiGGUy9R",
      "include_colab_link": true
    },
    "kernelspec": {
      "name": "python3",
      "display_name": "Python 3"
    },
    "language_info": {
      "name": "python"
    }
  },
  "cells": [
    {
      "cell_type": "markdown",
      "metadata": {
        "id": "view-in-github",
        "colab_type": "text"
      },
      "source": [
        "<a href=\"https://colab.research.google.com/github/sruthib22/data690_Sruthi/blob/main/assignment_03/in_class_Session_03.ipynb\" target=\"_parent\"><img src=\"https://colab.research.google.com/assets/colab-badge.svg\" alt=\"Open In Colab\"/></a>"
      ]
    },
    {
      "cell_type": "markdown",
      "metadata": {
        "id": "sfGADEfD8Xf_"
      },
      "source": [
        "# Session 3 in class practice\n",
        "\n",
        "- sruthi batchala\n",
        "- september 16"
      ]
    },
    {
      "cell_type": "markdown",
      "metadata": {
        "id": "74pRsKbm83ml"
      },
      "source": [
        "## 1. List comprehension\n"
      ]
    },
    {
      "cell_type": "code",
      "metadata": {
        "colab": {
          "base_uri": "https://localhost:8080/"
        },
        "id": "LbmTnxIX5lZx",
        "outputId": "c7ff22e6-c824-42cd-ede4-9f257a46e541"
      },
      "source": [
        "# this is the traditional way of using for loop\n",
        "x = [2, 5, -7, 10, 12]\n",
        "\n",
        "y = []\n",
        "\n",
        "for i in x:\n",
        "  #new_number = i+10\n",
        "  y.append(i+10)\n",
        "\n",
        "print(y)\n"
      ],
      "execution_count": 3,
      "outputs": [
        {
          "output_type": "stream",
          "name": "stdout",
          "text": [
            "[12, 15, 3, 20, 22]\n"
          ]
        }
      ]
    },
    {
      "cell_type": "code",
      "metadata": {
        "colab": {
          "base_uri": "https://localhost:8080/"
        },
        "id": "1kSq2gVy-YkP",
        "outputId": "62a64168-4ae5-418e-ba8b-17c134ff4de2"
      },
      "source": [
        "# new way of using list comprehension\n",
        "\n",
        "y = [i+10 for i in x]\n",
        "\n",
        "print(y)"
      ],
      "execution_count": 5,
      "outputs": [
        {
          "output_type": "stream",
          "name": "stdout",
          "text": [
            "[12, 15, 3, 20, 22]\n"
          ]
        }
      ]
    },
    {
      "cell_type": "markdown",
      "metadata": {
        "id": "WKLcjATF-0x9"
      },
      "source": [
        "## 2. user-defined function\n"
      ]
    },
    {
      "cell_type": "markdown",
      "metadata": {
        "id": "NcAmwUr2AUEq"
      },
      "source": [
        "- addition"
      ]
    },
    {
      "cell_type": "code",
      "metadata": {
        "id": "sYXIYon7-7aT"
      },
      "source": [
        "def addition(a,b):\n",
        "      return a+b\n",
        "#print(addition(3,5))"
      ],
      "execution_count": 7,
      "outputs": []
    },
    {
      "cell_type": "code",
      "metadata": {
        "colab": {
          "base_uri": "https://localhost:8080/"
        },
        "id": "1nnG5t_b_uCJ",
        "outputId": "233780f1-9eec-43da-d51b-d70051ad2cda"
      },
      "source": [
        "y = addition(5,10)\n",
        "print(y)"
      ],
      "execution_count": 8,
      "outputs": [
        {
          "output_type": "stream",
          "name": "stdout",
          "text": [
            "15\n"
          ]
        }
      ]
    },
    {
      "cell_type": "markdown",
      "metadata": {
        "id": "JMq7cTLnAQeL"
      },
      "source": [
        "- division\n"
      ]
    },
    {
      "cell_type": "code",
      "metadata": {
        "colab": {
          "base_uri": "https://localhost:8080/"
        },
        "id": "glG_z-9x_33f",
        "outputId": "fa5df178-3645-4a96-c069-9add4bc14c98"
      },
      "source": [
        "def division(a,b):\n",
        "  return a//b #for int\n",
        "  #return a/b for float\n",
        "\n",
        "print(division(5,2))"
      ],
      "execution_count": 11,
      "outputs": [
        {
          "output_type": "stream",
          "name": "stdout",
          "text": [
            "2\n"
          ]
        }
      ]
    },
    {
      "cell_type": "markdown",
      "metadata": {
        "id": "p2OwgyPuCZI6"
      },
      "source": [
        "## 3. data wrangling\n"
      ]
    },
    {
      "cell_type": "code",
      "metadata": {
        "id": "qEz1HvGnD8d2"
      },
      "source": [
        "  o;i45hytgifmd394jtn 3o4"
      ],
      "execution_count": null,
      "outputs": []
    },
    {
      "cell_type": "code",
      "metadata": {
        "colab": {
          "base_uri": "https://localhost:8080/"
        },
        "id": "uc0_wl5KCg7H",
        "outputId": "3e75ec2e-c5fd-4f8d-f845-d0dfae42dc53"
      },
      "source": [
        "header_string = \"\"\"\n",
        "  age: continuous.\n",
        "  workclass: Private, Self-emp-not-inc, Self-emp-inc, Federal-gov, Local-gov, State-gov, Without-pay, Never-worked.\n",
        "  fnlwgt: continuous.\n",
        "  education: Bachelors, Some-college, 11th, HS-grad, Prof-school, Assoc-acdm, Assoc-voc, 9th, 7th-8th, 12th, Masters, 1st-4th, 10th, Doctorate, 5th-6th, Preschool.\n",
        "  education-num: continuous.\n",
        "  marital-status: Married-civ-spouse, Divorced, Never-married, Separated, Widowed, Married-spouse-absent, Married-AF-spouse.\n",
        "  occupation: Tech-support, Craft-repair, Other-service, Sales, Exec-managerial, Prof-specialty, Handlers-cleaners, Machine-op-inspct, Adm-clerical, Farming-fishing, Transport-moving, Priv-house-serv, Protective-serv, Armed-Forces.\n",
        "  relationship: Wife, Own-child, Husband, Not-in-family, Other-relative, Unmarried.\n",
        "  race: White, Asian-Pac-Islander, Amer-Indian-Eskimo, Other, Black.\n",
        "  sex: Female, Male.\n",
        "  capital-gain: continuous.\n",
        "  capital-loss: continuous.\n",
        "  hours-per-week: continuous.\n",
        "  native-country: United-States, Cambodia, England, Puerto-Rico, Canada, Germany, Outlying-US(Guam-USVI-etc), India, Japan, Greece, South, China, Cuba, Iran, Honduras, Philippines, Italy, Poland, Jamaica, Vietnam, Mexico, Portugal, Ireland, France, Dominican-Republic, Laos, Ecuador, Taiwan, Haiti, Columbia, Hungary, Guatemala, Nicaragua, Scotland, Thailand, Yugoslavia, El-Salvador, Trinadad&Tobago, Peru, Hong, Holand-Netherlands.\n",
        "\"\"\"\n",
        "\n",
        "str(header_string)\n",
        "type(header_string)\n",
        "\n"
      ],
      "execution_count": 13,
      "outputs": [
        {
          "output_type": "execute_result",
          "data": {
            "text/plain": [
              "str"
            ]
          },
          "metadata": {},
          "execution_count": 13
        }
      ]
    },
    {
      "cell_type": "code",
      "metadata": {
        "colab": {
          "base_uri": "https://localhost:8080/"
        },
        "id": "oc6Y1bvkEvPZ",
        "outputId": "b3da938c-83f3-4252-92a0-8323fedb0c7e"
      },
      "source": [
        "len(header_string)"
      ],
      "execution_count": 14,
      "outputs": [
        {
          "output_type": "execute_result",
          "data": {
            "text/plain": [
              "1402"
            ]
          },
          "metadata": {},
          "execution_count": 14
        }
      ]
    },
    {
      "cell_type": "code",
      "metadata": {
        "colab": {
          "base_uri": "https://localhost:8080/"
        },
        "id": "WdCjZ6M1E-wA",
        "outputId": "7f6deabf-41d3-44a4-e410-a9575443714a"
      },
      "source": [
        "print(header_string)"
      ],
      "execution_count": 15,
      "outputs": [
        {
          "output_type": "stream",
          "name": "stdout",
          "text": [
            "\n",
            "  age: continuous.\n",
            "  workclass: Private, Self-emp-not-inc, Self-emp-inc, Federal-gov, Local-gov, State-gov, Without-pay, Never-worked.\n",
            "  fnlwgt: continuous.\n",
            "  education: Bachelors, Some-college, 11th, HS-grad, Prof-school, Assoc-acdm, Assoc-voc, 9th, 7th-8th, 12th, Masters, 1st-4th, 10th, Doctorate, 5th-6th, Preschool.\n",
            "  education-num: continuous.\n",
            "  marital-status: Married-civ-spouse, Divorced, Never-married, Separated, Widowed, Married-spouse-absent, Married-AF-spouse.\n",
            "  occupation: Tech-support, Craft-repair, Other-service, Sales, Exec-managerial, Prof-specialty, Handlers-cleaners, Machine-op-inspct, Adm-clerical, Farming-fishing, Transport-moving, Priv-house-serv, Protective-serv, Armed-Forces.\n",
            "  relationship: Wife, Own-child, Husband, Not-in-family, Other-relative, Unmarried.\n",
            "  race: White, Asian-Pac-Islander, Amer-Indian-Eskimo, Other, Black.\n",
            "  sex: Female, Male.\n",
            "  capital-gain: continuous.\n",
            "  capital-loss: continuous.\n",
            "  hours-per-week: continuous.\n",
            "  native-country: United-States, Cambodia, England, Puerto-Rico, Canada, Germany, Outlying-US(Guam-USVI-etc), India, Japan, Greece, South, China, Cuba, Iran, Honduras, Philippines, Italy, Poland, Jamaica, Vietnam, Mexico, Portugal, Ireland, France, Dominican-Republic, Laos, Ecuador, Taiwan, Haiti, Columbia, Hungary, Guatemala, Nicaragua, Scotland, Thailand, Yugoslavia, El-Salvador, Trinadad&Tobago, Peru, Hong, Holand-Netherlands.\n",
            "\n"
          ]
        }
      ]
    },
    {
      "cell_type": "code",
      "metadata": {
        "id": "93DS7u7NFD9z"
      },
      "source": [
        "header_string = header_string.split(\"\\n\")\n",
        "print(header_string)"
      ],
      "execution_count": null,
      "outputs": []
    },
    {
      "cell_type": "code",
      "metadata": {
        "colab": {
          "base_uri": "https://localhost:8080/"
        },
        "id": "y82SiLh3FeWv",
        "outputId": "5844df23-a216-4a34-8e44-a543437d8bd4"
      },
      "source": [
        "len(header_string)"
      ],
      "execution_count": 19,
      "outputs": [
        {
          "output_type": "execute_result",
          "data": {
            "text/plain": [
              "16"
            ]
          },
          "metadata": {},
          "execution_count": 19
        }
      ]
    },
    {
      "cell_type": "code",
      "metadata": {
        "colab": {
          "base_uri": "https://localhost:8080/",
          "height": 35
        },
        "id": "rV1KpFmNF1SY",
        "outputId": "f4db44ae-10d3-4481-a39b-16373b6674a2"
      },
      "source": [
        "header_string[0]"
      ],
      "execution_count": 21,
      "outputs": [
        {
          "output_type": "execute_result",
          "data": {
            "application/vnd.google.colaboratory.intrinsic+json": {
              "type": "string"
            },
            "text/plain": [
              "''"
            ]
          },
          "metadata": {},
          "execution_count": 21
        }
      ]
    },
    {
      "cell_type": "code",
      "metadata": {
        "colab": {
          "base_uri": "https://localhost:8080/",
          "height": 35
        },
        "id": "iCutGyQ2F_D4",
        "outputId": "8f24b018-0668-46b3-c193-2d9faa652b48"
      },
      "source": [
        "header_string[2]"
      ],
      "execution_count": 22,
      "outputs": [
        {
          "output_type": "execute_result",
          "data": {
            "application/vnd.google.colaboratory.intrinsic+json": {
              "type": "string"
            },
            "text/plain": [
              "'  workclass: Private, Self-emp-not-inc, Self-emp-inc, Federal-gov, Local-gov, State-gov, Without-pay, Never-worked.'"
            ]
          },
          "metadata": {},
          "execution_count": 22
        }
      ]
    },
    {
      "cell_type": "code",
      "metadata": {
        "colab": {
          "base_uri": "https://localhost:8080/",
          "height": 35
        },
        "id": "PdglyzMKGCND",
        "outputId": "e5228390-85a1-4872-f9f5-ce87d0adc707"
      },
      "source": [
        "header_string[15]"
      ],
      "execution_count": 23,
      "outputs": [
        {
          "output_type": "execute_result",
          "data": {
            "application/vnd.google.colaboratory.intrinsic+json": {
              "type": "string"
            },
            "text/plain": [
              "''"
            ]
          },
          "metadata": {},
          "execution_count": 23
        }
      ]
    },
    {
      "cell_type": "code",
      "metadata": {
        "id": "egGMpbeHGGD4"
      },
      "source": [
        "header_list1 = header_string[1:15]"
      ],
      "execution_count": 25,
      "outputs": []
    },
    {
      "cell_type": "code",
      "metadata": {
        "colab": {
          "base_uri": "https://localhost:8080/"
        },
        "id": "g9adT8p7GWGZ",
        "outputId": "85c8d3ce-b65f-40eb-cbfa-1470ae79a9dd"
      },
      "source": [
        "header_list1"
      ],
      "execution_count": 26,
      "outputs": [
        {
          "output_type": "execute_result",
          "data": {
            "text/plain": [
              "['  age: continuous.',\n",
              " '  workclass: Private, Self-emp-not-inc, Self-emp-inc, Federal-gov, Local-gov, State-gov, Without-pay, Never-worked.',\n",
              " '  fnlwgt: continuous.',\n",
              " '  education: Bachelors, Some-college, 11th, HS-grad, Prof-school, Assoc-acdm, Assoc-voc, 9th, 7th-8th, 12th, Masters, 1st-4th, 10th, Doctorate, 5th-6th, Preschool.',\n",
              " '  education-num: continuous.',\n",
              " '  marital-status: Married-civ-spouse, Divorced, Never-married, Separated, Widowed, Married-spouse-absent, Married-AF-spouse.',\n",
              " '  occupation: Tech-support, Craft-repair, Other-service, Sales, Exec-managerial, Prof-specialty, Handlers-cleaners, Machine-op-inspct, Adm-clerical, Farming-fishing, Transport-moving, Priv-house-serv, Protective-serv, Armed-Forces.',\n",
              " '  relationship: Wife, Own-child, Husband, Not-in-family, Other-relative, Unmarried.',\n",
              " '  race: White, Asian-Pac-Islander, Amer-Indian-Eskimo, Other, Black.',\n",
              " '  sex: Female, Male.',\n",
              " '  capital-gain: continuous.',\n",
              " '  capital-loss: continuous.',\n",
              " '  hours-per-week: continuous.',\n",
              " '  native-country: United-States, Cambodia, England, Puerto-Rico, Canada, Germany, Outlying-US(Guam-USVI-etc), India, Japan, Greece, South, China, Cuba, Iran, Honduras, Philippines, Italy, Poland, Jamaica, Vietnam, Mexico, Portugal, Ireland, France, Dominican-Republic, Laos, Ecuador, Taiwan, Haiti, Columbia, Hungary, Guatemala, Nicaragua, Scotland, Thailand, Yugoslavia, El-Salvador, Trinadad&Tobago, Peru, Hong, Holand-Netherlands.']"
            ]
          },
          "metadata": {},
          "execution_count": 26
        }
      ]
    },
    {
      "cell_type": "code",
      "metadata": {
        "colab": {
          "base_uri": "https://localhost:8080/"
        },
        "id": "97XSaTokGfsZ",
        "outputId": "fc0705e6-a167-45dd-a923-d15068824f65"
      },
      "source": [
        "header_list2 = []\n",
        "for item in header_list1:\n",
        "  header_info = item.split(\":\")\n",
        "  print(header_info[0])\n",
        "  header_list2.append(header_info[0])\n",
        "\n",
        "print(header_list2)"
      ],
      "execution_count": 31,
      "outputs": [
        {
          "output_type": "stream",
          "name": "stdout",
          "text": [
            "  age\n",
            "  workclass\n",
            "  fnlwgt\n",
            "  education\n",
            "  education-num\n",
            "  marital-status\n",
            "  occupation\n",
            "  relationship\n",
            "  race\n",
            "  sex\n",
            "  capital-gain\n",
            "  capital-loss\n",
            "  hours-per-week\n",
            "  native-country\n",
            "['  age', '  workclass', '  fnlwgt', '  education', '  education-num', '  marital-status', '  occupation', '  relationship', '  race', '  sex', '  capital-gain', '  capital-loss', '  hours-per-week', '  native-country']\n"
          ]
        }
      ]
    },
    {
      "cell_type": "markdown",
      "metadata": {
        "id": "JDdaJdguLikx"
      },
      "source": [
        "## 4. Python dictionary"
      ]
    },
    {
      "cell_type": "code",
      "metadata": {
        "colab": {
          "base_uri": "https://localhost:8080/"
        },
        "id": "RqMECUPmIXiS",
        "outputId": "2da5bfeb-d6bf-4171-ea7f-2cc4344db23d"
      },
      "source": [
        "#key value pair\n",
        "x = {\"a\": 90}\n",
        "y = {\"Age\": 90, \"last_name\": \"Batchala\", \"gender\": \"Female\"}\n",
        "\n",
        "print(x, y)"
      ],
      "execution_count": 32,
      "outputs": [
        {
          "output_type": "stream",
          "name": "stdout",
          "text": [
            "{'a': 90} {'Age': 90, 'last_name': 'Batchala', 'gender': 'Female'}\n"
          ]
        }
      ]
    },
    {
      "cell_type": "code",
      "metadata": {
        "colab": {
          "base_uri": "https://localhost:8080/"
        },
        "id": "wYIX7l4yMQJ1",
        "outputId": "2ff4e56f-0c56-4f92-9e17-643aab7c12cd"
      },
      "source": [
        "y[\"Age\"]"
      ],
      "execution_count": 33,
      "outputs": [
        {
          "output_type": "execute_result",
          "data": {
            "text/plain": [
              "90"
            ]
          },
          "metadata": {},
          "execution_count": 33
        }
      ]
    },
    {
      "cell_type": "code",
      "metadata": {
        "colab": {
          "base_uri": "https://localhost:8080/",
          "height": 35
        },
        "id": "d7DAXx7_MWY9",
        "outputId": "ab3ad6fc-d66d-40b0-8680-edad15903997"
      },
      "source": [
        "y[\"gender\"]"
      ],
      "execution_count": 34,
      "outputs": [
        {
          "output_type": "execute_result",
          "data": {
            "application/vnd.google.colaboratory.intrinsic+json": {
              "type": "string"
            },
            "text/plain": [
              "'Female'"
            ]
          },
          "metadata": {},
          "execution_count": 34
        }
      ]
    },
    {
      "cell_type": "code",
      "metadata": {
        "colab": {
          "base_uri": "https://localhost:8080/"
        },
        "id": "7n9NgGEAMce0",
        "outputId": "4d020ab8-014a-4333-9db3-03819191204d"
      },
      "source": [
        "header_list1"
      ],
      "execution_count": 35,
      "outputs": [
        {
          "output_type": "execute_result",
          "data": {
            "text/plain": [
              "['  age: continuous.',\n",
              " '  workclass: Private, Self-emp-not-inc, Self-emp-inc, Federal-gov, Local-gov, State-gov, Without-pay, Never-worked.',\n",
              " '  fnlwgt: continuous.',\n",
              " '  education: Bachelors, Some-college, 11th, HS-grad, Prof-school, Assoc-acdm, Assoc-voc, 9th, 7th-8th, 12th, Masters, 1st-4th, 10th, Doctorate, 5th-6th, Preschool.',\n",
              " '  education-num: continuous.',\n",
              " '  marital-status: Married-civ-spouse, Divorced, Never-married, Separated, Widowed, Married-spouse-absent, Married-AF-spouse.',\n",
              " '  occupation: Tech-support, Craft-repair, Other-service, Sales, Exec-managerial, Prof-specialty, Handlers-cleaners, Machine-op-inspct, Adm-clerical, Farming-fishing, Transport-moving, Priv-house-serv, Protective-serv, Armed-Forces.',\n",
              " '  relationship: Wife, Own-child, Husband, Not-in-family, Other-relative, Unmarried.',\n",
              " '  race: White, Asian-Pac-Islander, Amer-Indian-Eskimo, Other, Black.',\n",
              " '  sex: Female, Male.',\n",
              " '  capital-gain: continuous.',\n",
              " '  capital-loss: continuous.',\n",
              " '  hours-per-week: continuous.',\n",
              " '  native-country: United-States, Cambodia, England, Puerto-Rico, Canada, Germany, Outlying-US(Guam-USVI-etc), India, Japan, Greece, South, China, Cuba, Iran, Honduras, Philippines, Italy, Poland, Jamaica, Vietnam, Mexico, Portugal, Ireland, France, Dominican-Republic, Laos, Ecuador, Taiwan, Haiti, Columbia, Hungary, Guatemala, Nicaragua, Scotland, Thailand, Yugoslavia, El-Salvador, Trinadad&Tobago, Peru, Hong, Holand-Netherlands.']"
            ]
          },
          "metadata": {},
          "execution_count": 35
        }
      ]
    },
    {
      "cell_type": "code",
      "metadata": {
        "colab": {
          "base_uri": "https://localhost:8080/"
        },
        "id": "baoGHSEhM0e-",
        "outputId": "fbf061dc-7429-4b96-8a15-ffeb0ac98bec"
      },
      "source": [
        "b = (header_list2[0],header_list1[1:])\n",
        "print(b)"
      ],
      "execution_count": 50,
      "outputs": [
        {
          "output_type": "stream",
          "name": "stdout",
          "text": [
            "('  age', ['  workclass: Private, Self-emp-not-inc, Self-emp-inc, Federal-gov, Local-gov, State-gov, Without-pay, Never-worked.', '  fnlwgt: continuous.', '  education: Bachelors, Some-college, 11th, HS-grad, Prof-school, Assoc-acdm, Assoc-voc, 9th, 7th-8th, 12th, Masters, 1st-4th, 10th, Doctorate, 5th-6th, Preschool.', '  education-num: continuous.', '  marital-status: Married-civ-spouse, Divorced, Never-married, Separated, Widowed, Married-spouse-absent, Married-AF-spouse.', '  occupation: Tech-support, Craft-repair, Other-service, Sales, Exec-managerial, Prof-specialty, Handlers-cleaners, Machine-op-inspct, Adm-clerical, Farming-fishing, Transport-moving, Priv-house-serv, Protective-serv, Armed-Forces.', '  relationship: Wife, Own-child, Husband, Not-in-family, Other-relative, Unmarried.', '  race: White, Asian-Pac-Islander, Amer-Indian-Eskimo, Other, Black.', '  sex: Female, Male.', '  capital-gain: continuous.', '  capital-loss: continuous.', '  hours-per-week: continuous.', '  native-country: United-States, Cambodia, England, Puerto-Rico, Canada, Germany, Outlying-US(Guam-USVI-etc), India, Japan, Greece, South, China, Cuba, Iran, Honduras, Philippines, Italy, Poland, Jamaica, Vietnam, Mexico, Portugal, Ireland, France, Dominican-Republic, Laos, Ecuador, Taiwan, Haiti, Columbia, Hungary, Guatemala, Nicaragua, Scotland, Thailand, Yugoslavia, El-Salvador, Trinadad&Tobago, Peru, Hong, Holand-Netherlands.'])\n"
          ]
        }
      ]
    },
    {
      "cell_type": "code",
      "metadata": {
        "colab": {
          "base_uri": "https://localhost:8080/"
        },
        "id": "jIA1H1H2N6hW",
        "outputId": "981baa31-923e-4c5c-e8dd-f40ab2edc21f"
      },
      "source": [
        "# tuple\n",
        "c = (\"Age\", 60)\n",
        "print(c)"
      ],
      "execution_count": 40,
      "outputs": [
        {
          "output_type": "stream",
          "name": "stdout",
          "text": [
            "('Age', 60)\n"
          ]
        }
      ]
    },
    {
      "cell_type": "code",
      "metadata": {
        "id": "4JRExcQ7N_2q"
      },
      "source": [
        "a = dict([(\"Age\", 80)])"
      ],
      "execution_count": 41,
      "outputs": []
    },
    {
      "cell_type": "code",
      "metadata": {
        "colab": {
          "base_uri": "https://localhost:8080/"
        },
        "id": "pPgYjMfQOIH5",
        "outputId": "0e76e0b6-ddee-4e5f-9a32-c0b52399ef37"
      },
      "source": [
        "a"
      ],
      "execution_count": 42,
      "outputs": [
        {
          "output_type": "execute_result",
          "data": {
            "text/plain": [
              "{'Age': 80}"
            ]
          },
          "metadata": {},
          "execution_count": 42
        }
      ]
    },
    {
      "cell_type": "code",
      "metadata": {
        "colab": {
          "base_uri": "https://localhost:8080/"
        },
        "id": "XvF1oNevOJCC",
        "outputId": "59552207-2091-49ec-d283-e8fce0ce1b3a"
      },
      "source": [
        "a = dict([(\"Age\", 60), (\"Last_name\",\"Batchala\"),(\"first_name\",\"sruthi\")])\n",
        "print(a)"
      ],
      "execution_count": 45,
      "outputs": [
        {
          "output_type": "stream",
          "name": "stdout",
          "text": [
            "{'Age': 60, 'Last_name': 'Batchala', 'first_name': 'sruthi'}\n"
          ]
        }
      ]
    },
    {
      "cell_type": "code",
      "metadata": {
        "colab": {
          "base_uri": "https://localhost:8080/"
        },
        "id": "9Eucx_A7OyyQ",
        "outputId": "89d0067f-6214-465f-d384-c63a8af925f2"
      },
      "source": [
        "tuple_list = []\n",
        "\n",
        "for item in header_list1:\n",
        "  header_information = item.split(\":\")\n",
        "  tuple_1 = (header_information[0].strip(), header_information[1])  #strip() is used to remove spaces\n",
        "  tuple_list.append(tuple_1)\n",
        "  #print(tuple_1)   #tuple_1 is the tuple_header\n",
        "\n",
        "print(tuple_list)\n"
      ],
      "execution_count": 51,
      "outputs": [
        {
          "output_type": "stream",
          "name": "stdout",
          "text": [
            "[('age', ' continuous.'), ('workclass', ' Private, Self-emp-not-inc, Self-emp-inc, Federal-gov, Local-gov, State-gov, Without-pay, Never-worked.'), ('fnlwgt', ' continuous.'), ('education', ' Bachelors, Some-college, 11th, HS-grad, Prof-school, Assoc-acdm, Assoc-voc, 9th, 7th-8th, 12th, Masters, 1st-4th, 10th, Doctorate, 5th-6th, Preschool.'), ('education-num', ' continuous.'), ('marital-status', ' Married-civ-spouse, Divorced, Never-married, Separated, Widowed, Married-spouse-absent, Married-AF-spouse.'), ('occupation', ' Tech-support, Craft-repair, Other-service, Sales, Exec-managerial, Prof-specialty, Handlers-cleaners, Machine-op-inspct, Adm-clerical, Farming-fishing, Transport-moving, Priv-house-serv, Protective-serv, Armed-Forces.'), ('relationship', ' Wife, Own-child, Husband, Not-in-family, Other-relative, Unmarried.'), ('race', ' White, Asian-Pac-Islander, Amer-Indian-Eskimo, Other, Black.'), ('sex', ' Female, Male.'), ('capital-gain', ' continuous.'), ('capital-loss', ' continuous.'), ('hours-per-week', ' continuous.'), ('native-country', ' United-States, Cambodia, England, Puerto-Rico, Canada, Germany, Outlying-US(Guam-USVI-etc), India, Japan, Greece, South, China, Cuba, Iran, Honduras, Philippines, Italy, Poland, Jamaica, Vietnam, Mexico, Portugal, Ireland, France, Dominican-Republic, Laos, Ecuador, Taiwan, Haiti, Columbia, Hungary, Guatemala, Nicaragua, Scotland, Thailand, Yugoslavia, El-Salvador, Trinadad&Tobago, Peru, Hong, Holand-Netherlands.')]\n"
          ]
        }
      ]
    },
    {
      "cell_type": "code",
      "metadata": {
        "colab": {
          "base_uri": "https://localhost:8080/"
        },
        "id": "W3OcX5O1Pxto",
        "outputId": "8468b090-354d-4b54-faca-8fb3c35bcb88"
      },
      "source": [
        "header_dict = dict(tuple_list)\n",
        "print(header_dict)"
      ],
      "execution_count": 52,
      "outputs": [
        {
          "output_type": "stream",
          "name": "stdout",
          "text": [
            "{'age': ' continuous.', 'workclass': ' Private, Self-emp-not-inc, Self-emp-inc, Federal-gov, Local-gov, State-gov, Without-pay, Never-worked.', 'fnlwgt': ' continuous.', 'education': ' Bachelors, Some-college, 11th, HS-grad, Prof-school, Assoc-acdm, Assoc-voc, 9th, 7th-8th, 12th, Masters, 1st-4th, 10th, Doctorate, 5th-6th, Preschool.', 'education-num': ' continuous.', 'marital-status': ' Married-civ-spouse, Divorced, Never-married, Separated, Widowed, Married-spouse-absent, Married-AF-spouse.', 'occupation': ' Tech-support, Craft-repair, Other-service, Sales, Exec-managerial, Prof-specialty, Handlers-cleaners, Machine-op-inspct, Adm-clerical, Farming-fishing, Transport-moving, Priv-house-serv, Protective-serv, Armed-Forces.', 'relationship': ' Wife, Own-child, Husband, Not-in-family, Other-relative, Unmarried.', 'race': ' White, Asian-Pac-Islander, Amer-Indian-Eskimo, Other, Black.', 'sex': ' Female, Male.', 'capital-gain': ' continuous.', 'capital-loss': ' continuous.', 'hours-per-week': ' continuous.', 'native-country': ' United-States, Cambodia, England, Puerto-Rico, Canada, Germany, Outlying-US(Guam-USVI-etc), India, Japan, Greece, South, China, Cuba, Iran, Honduras, Philippines, Italy, Poland, Jamaica, Vietnam, Mexico, Portugal, Ireland, France, Dominican-Republic, Laos, Ecuador, Taiwan, Haiti, Columbia, Hungary, Guatemala, Nicaragua, Scotland, Thailand, Yugoslavia, El-Salvador, Trinadad&Tobago, Peru, Hong, Holand-Netherlands.'}\n"
          ]
        }
      ]
    },
    {
      "cell_type": "code",
      "metadata": {
        "id": "piZQmXORQR0A"
      },
      "source": [
        ""
      ],
      "execution_count": null,
      "outputs": []
    }
  ]
}