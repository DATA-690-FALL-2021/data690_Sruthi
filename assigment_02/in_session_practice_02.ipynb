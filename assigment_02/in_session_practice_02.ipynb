{
  "nbformat": 4,
  "nbformat_minor": 0,
  "metadata": {
    "colab": {
      "name": "in_session_practice_02.ipynb",
      "provenance": [],
      "authorship_tag": "ABX9TyNyfKyPCezEH8GJuZfq5LCk",
      "include_colab_link": true
    },
    "kernelspec": {
      "name": "python3",
      "display_name": "Python 3"
    },
    "language_info": {
      "name": "python"
    }
  },
  "cells": [
    {
      "cell_type": "markdown",
      "metadata": {
        "id": "view-in-github",
        "colab_type": "text"
      },
      "source": [
        "<a href=\"https://colab.research.google.com/github/sruthib22/data690_Sruthi/blob/main/assigment_02/in_session_practice_02.ipynb\" target=\"_parent\"><img src=\"https://colab.research.google.com/assets/colab-badge.svg\" alt=\"Open In Colab\"/></a>"
      ]
    },
    {
      "cell_type": "markdown",
      "metadata": {
        "id": "vMwPGSB_-6HH"
      },
      "source": [
        "## In- session Hands-on Practices\n",
        "\n",
        "sruthi\n"
      ]
    },
    {
      "cell_type": "markdown",
      "metadata": {
        "id": "r3WJNmlL_rkX"
      },
      "source": [
        "## 1. Simple Types"
      ]
    },
    {
      "cell_type": "code",
      "metadata": {
        "colab": {
          "base_uri": "https://localhost:8080/"
        },
        "id": "vXvFxhyW-p_v",
        "outputId": "11f2c70d-076a-44b2-cc38-f510f23cfd5e"
      },
      "source": [
        "x = 5        # integer\n",
        "y = 0.5      # foat\n",
        "s = \"Hello\"  #string, a collection of characters\n",
        "print(x, y, s)"
      ],
      "execution_count": 2,
      "outputs": [
        {
          "output_type": "stream",
          "name": "stdout",
          "text": [
            "5 0.5 Hello\n"
          ]
        }
      ]
    },
    {
      "cell_type": "markdown",
      "metadata": {
        "id": "TgY2RcJk_wA-"
      },
      "source": [
        "## 2. Collection Type"
      ]
    },
    {
      "cell_type": "code",
      "metadata": {
        "colab": {
          "base_uri": "https://localhost:8080/"
        },
        "id": "0Ai1X-ur_qG0",
        "outputId": "9f2f65c3-a7db-46bf-999c-18794f37e7dc"
      },
      "source": [
        "a_list = [1, 4, 7, 10]\n",
        "print(a_list)"
      ],
      "execution_count": 4,
      "outputs": [
        {
          "output_type": "stream",
          "name": "stdout",
          "text": [
            "[1, 4, 7, 10]\n"
          ]
        }
      ]
    },
    {
      "cell_type": "code",
      "metadata": {
        "colab": {
          "base_uri": "https://localhost:8080/"
        },
        "id": "hMyMiI04ApJN",
        "outputId": "1b98e1e4-0f33-498e-e956-3637a548c439"
      },
      "source": [
        "type(a_list)"
      ],
      "execution_count": 5,
      "outputs": [
        {
          "output_type": "execute_result",
          "data": {
            "text/plain": [
              "list"
            ]
          },
          "metadata": {},
          "execution_count": 5
        }
      ]
    },
    {
      "cell_type": "markdown",
      "metadata": {
        "id": "Zrro-pdtAt6X"
      },
      "source": [
        "## 3. Loop"
      ]
    },
    {
      "cell_type": "code",
      "metadata": {
        "colab": {
          "base_uri": "https://localhost:8080/"
        },
        "id": "BlfOmHBsAr2m",
        "outputId": "8781d364-f755-4fb3-c7a0-0525ed8840f9"
      },
      "source": [
        "for i in a_list:\n",
        "  print(\"integer\", i)"
      ],
      "execution_count": 8,
      "outputs": [
        {
          "output_type": "stream",
          "name": "stdout",
          "text": [
            "integer 1\n",
            "integer 4\n",
            "integer 7\n",
            "integer 10\n"
          ]
        }
      ]
    },
    {
      "cell_type": "markdown",
      "metadata": {
        "id": "jIYYwHCXBkrq"
      },
      "source": [
        "## 4. Conditions"
      ]
    },
    {
      "cell_type": "code",
      "metadata": {
        "colab": {
          "base_uri": "https://localhost:8080/"
        },
        "id": "HX-UKzOoB5RA",
        "outputId": "c3a5f817-0bf2-4b74-a6fa-2dd3937e8e48"
      },
      "source": [
        "print(10%2) #modulo"
      ],
      "execution_count": 9,
      "outputs": [
        {
          "output_type": "stream",
          "name": "stdout",
          "text": [
            "0\n"
          ]
        }
      ]
    },
    {
      "cell_type": "code",
      "metadata": {
        "colab": {
          "base_uri": "https://localhost:8080/"
        },
        "id": "usK0pbXTCIm7",
        "outputId": "231e1fa7-6259-4305-8f6e-5aefab5ae67b"
      },
      "source": [
        "print(23 % 2) #modulo"
      ],
      "execution_count": 10,
      "outputs": [
        {
          "output_type": "stream",
          "name": "stdout",
          "text": [
            "1\n"
          ]
        }
      ]
    },
    {
      "cell_type": "code",
      "metadata": {
        "colab": {
          "base_uri": "https://localhost:8080/"
        },
        "id": "ItERVksDCNZz",
        "outputId": "d9aaa32b-5511-4587-f5b8-0b353d8b71da"
      },
      "source": [
        "for i in a_list:\n",
        "  if i % 2==1:\n",
        "      print(\"integer\", i)"
      ],
      "execution_count": 12,
      "outputs": [
        {
          "output_type": "stream",
          "name": "stdout",
          "text": [
            "integer 1\n",
            "integer 7\n"
          ]
        }
      ]
    },
    {
      "cell_type": "markdown",
      "metadata": {
        "id": "W5admlj5LFVg"
      },
      "source": [
        "## 5. python built-in-function\n",
        "  - range()\n",
        "  - list()\n",
        "  - int()\n",
        "  - str()\n",
        "  - boolean (True/ False)\n",
        "  - NaN"
      ]
    },
    {
      "cell_type": "code",
      "metadata": {
        "colab": {
          "base_uri": "https://localhost:8080/"
        },
        "id": "uEnGocvSLEiX",
        "outputId": "8b1cf7c3-3168-4f1a-fda7-dd0edc59ebf0"
      },
      "source": [
        "for i in range(10, 21, 2):   # start = 10, stop = 21 ( up to 20, not including 21), step = 2\n",
        "  print(i)"
      ],
      "execution_count": 13,
      "outputs": [
        {
          "output_type": "stream",
          "name": "stdout",
          "text": [
            "10\n",
            "12\n",
            "14\n",
            "16\n",
            "18\n",
            "20\n"
          ]
        }
      ]
    },
    {
      "cell_type": "code",
      "metadata": {
        "colab": {
          "base_uri": "https://localhost:8080/"
        },
        "id": "D-xgHtbqLw7O",
        "outputId": "2e830e1a-151d-421b-f3a4-a557515c8d1f"
      },
      "source": [
        "for j in  range(0,5):\n",
        "  print(j)"
      ],
      "execution_count": 14,
      "outputs": [
        {
          "output_type": "stream",
          "name": "stdout",
          "text": [
            "0\n",
            "1\n",
            "2\n",
            "3\n",
            "4\n"
          ]
        }
      ]
    },
    {
      "cell_type": "code",
      "metadata": {
        "colab": {
          "base_uri": "https://localhost:8080/"
        },
        "id": "LY2udLv2Mjgr",
        "outputId": "c88d55b0-6216-4e51-c442-9d4e17dfc1ae"
      },
      "source": [
        "print(list(range(0,5)))"
      ],
      "execution_count": 15,
      "outputs": [
        {
          "output_type": "stream",
          "name": "stdout",
          "text": [
            "[0, 1, 2, 3, 4]\n"
          ]
        }
      ]
    },
    {
      "cell_type": "code",
      "metadata": {
        "colab": {
          "base_uri": "https://localhost:8080/"
        },
        "id": "nlNawWG0Mz1S",
        "outputId": "ce138711-8fd9-4cc8-d427-1cf9dacefd96"
      },
      "source": [
        "x = \"50\" \n",
        "type(x)"
      ],
      "execution_count": 17,
      "outputs": [
        {
          "output_type": "execute_result",
          "data": {
            "text/plain": [
              "str"
            ]
          },
          "metadata": {},
          "execution_count": 17
        }
      ]
    },
    {
      "cell_type": "code",
      "metadata": {
        "colab": {
          "base_uri": "https://localhost:8080/"
        },
        "id": "wyMcXR2KNfzh",
        "outputId": "f0750aea-7e98-42d4-f7da-16466f0383b4"
      },
      "source": [
        "y = int(x)\n",
        "type(y)"
      ],
      "execution_count": 18,
      "outputs": [
        {
          "output_type": "execute_result",
          "data": {
            "text/plain": [
              "int"
            ]
          },
          "metadata": {},
          "execution_count": 18
        }
      ]
    },
    {
      "cell_type": "code",
      "metadata": {
        "colab": {
          "base_uri": "https://localhost:8080/"
        },
        "id": "wL3DGUXKNjmE",
        "outputId": "e856a48c-38e2-4f13-f4ec-a9c0bdcbc451"
      },
      "source": [
        "print(x,y)"
      ],
      "execution_count": 19,
      "outputs": [
        {
          "output_type": "stream",
          "name": "stdout",
          "text": [
            "50 50\n"
          ]
        }
      ]
    },
    {
      "cell_type": "markdown",
      "metadata": {
        "id": "nHtFxSTFNrf3"
      },
      "source": [
        "## 6. Accepting User Inputs"
      ]
    },
    {
      "cell_type": "code",
      "metadata": {
        "colab": {
          "base_uri": "https://localhost:8080/"
        },
        "id": "_eguzY2HN0R3",
        "outputId": "da8fc931-e5f5-45d5-88b2-f61df48b965f"
      },
      "source": [
        "x = input(\"enter an integer:\")"
      ],
      "execution_count": 20,
      "outputs": [
        {
          "name": "stdout",
          "output_type": "stream",
          "text": [
            "enter an integer:10\n"
          ]
        }
      ]
    },
    {
      "cell_type": "code",
      "metadata": {
        "colab": {
          "base_uri": "https://localhost:8080/"
        },
        "id": "EBCcXFBHN78Y",
        "outputId": "3c99ed8c-f423-4ba3-d878-82fe2bffaa51"
      },
      "source": [
        "print(x)"
      ],
      "execution_count": 21,
      "outputs": [
        {
          "output_type": "stream",
          "name": "stdout",
          "text": [
            "10\n"
          ]
        }
      ]
    },
    {
      "cell_type": "code",
      "metadata": {
        "colab": {
          "base_uri": "https://localhost:8080/"
        },
        "id": "HkyqsmjiN-O6",
        "outputId": "05094041-c08d-4c16-a285-d3d4b1397cb9"
      },
      "source": [
        "type(x)"
      ],
      "execution_count": 22,
      "outputs": [
        {
          "output_type": "execute_result",
          "data": {
            "text/plain": [
              "str"
            ]
          },
          "metadata": {},
          "execution_count": 22
        }
      ]
    },
    {
      "cell_type": "code",
      "metadata": {
        "colab": {
          "base_uri": "https://localhost:8080/"
        },
        "id": "rmRmpLNJOFUc",
        "outputId": "51d2fea5-d040-49f1-e557-a17631121de0"
      },
      "source": [
        "x = input(\"enter the integer:\")"
      ],
      "execution_count": 24,
      "outputs": [
        {
          "name": "stdout",
          "output_type": "stream",
          "text": [
            "enter the integer:wang\n"
          ]
        }
      ]
    },
    {
      "cell_type": "code",
      "metadata": {
        "colab": {
          "base_uri": "https://localhost:8080/"
        },
        "id": "CzWg4etZORVA",
        "outputId": "2dd092fb-666c-444f-b317-5c9328d21488"
      },
      "source": [
        "print(x)"
      ],
      "execution_count": 25,
      "outputs": [
        {
          "output_type": "stream",
          "name": "stdout",
          "text": [
            "wang\n"
          ]
        }
      ]
    },
    {
      "cell_type": "markdown",
      "metadata": {
        "id": "HfUiZtVBPBSv"
      },
      "source": [
        "## 7. Exception handling"
      ]
    },
    {
      "cell_type": "code",
      "metadata": {
        "colab": {
          "base_uri": "https://localhost:8080/",
          "height": 178
        },
        "id": "NbIHdlp1PAKt",
        "outputId": "a30f6aee-cbdd-4a99-aee7-f81ff9b7b715"
      },
      "source": [
        "y = int(x)\n",
        "print(y)"
      ],
      "execution_count": 26,
      "outputs": [
        {
          "output_type": "error",
          "ename": "ValueError",
          "evalue": "ignored",
          "traceback": [
            "\u001b[0;31m---------------------------------------------------------------------------\u001b[0m",
            "\u001b[0;31mValueError\u001b[0m                                Traceback (most recent call last)",
            "\u001b[0;32m<ipython-input-26-049714fa7447>\u001b[0m in \u001b[0;36m<module>\u001b[0;34m()\u001b[0m\n\u001b[0;32m----> 1\u001b[0;31m \u001b[0my\u001b[0m \u001b[0;34m=\u001b[0m \u001b[0mint\u001b[0m\u001b[0;34m(\u001b[0m\u001b[0mx\u001b[0m\u001b[0;34m)\u001b[0m\u001b[0;34m\u001b[0m\u001b[0;34m\u001b[0m\u001b[0m\n\u001b[0m\u001b[1;32m      2\u001b[0m \u001b[0mprint\u001b[0m\u001b[0;34m(\u001b[0m\u001b[0my\u001b[0m\u001b[0;34m)\u001b[0m\u001b[0;34m\u001b[0m\u001b[0;34m\u001b[0m\u001b[0m\n",
            "\u001b[0;31mValueError\u001b[0m: invalid literal for int() with base 10: 'wang'"
          ]
        }
      ]
    },
    {
      "cell_type": "code",
      "metadata": {
        "colab": {
          "base_uri": "https://localhost:8080/"
        },
        "id": "8sKPQp2dPHcL",
        "outputId": "817c240a-d00b-46e7-993a-0b82b8b6543d"
      },
      "source": [
        "y = int(\"50\")\n",
        "print(y)"
      ],
      "execution_count": 27,
      "outputs": [
        {
          "output_type": "stream",
          "name": "stdout",
          "text": [
            "50\n"
          ]
        }
      ]
    },
    {
      "cell_type": "code",
      "metadata": {
        "colab": {
          "base_uri": "https://localhost:8080/"
        },
        "id": "0Gp3gFZYPLun",
        "outputId": "6ed89586-ddf6-47a9-c113-e9f7fee950e6"
      },
      "source": [
        "x = input(\"please enter an integer:\")\n",
        "try:\n",
        "  y = int(x)\n",
        "  print(\"get integer:\", y)\n",
        "except:\n",
        "  print(\"unable to convert the user input to an integer\")"
      ],
      "execution_count": 30,
      "outputs": [
        {
          "output_type": "stream",
          "name": "stdout",
          "text": [
            "please enter an integer: sruthi\n",
            "unable to convert the user input to an integer\n"
          ]
        }
      ]
    },
    {
      "cell_type": "markdown",
      "metadata": {
        "id": "0jTsK0GwPxH_"
      },
      "source": [
        "## Infinite Loop"
      ]
    },
    {
      "cell_type": "code",
      "metadata": {
        "colab": {
          "base_uri": "https://localhost:8080/"
        },
        "id": "GpfmlWJrPt_O",
        "outputId": "4874f4af-788c-4ab9-85ac-007d3e1d278d"
      },
      "source": [
        "while True:\n",
        "  x = input(\"please enter an integer:\")\n",
        "  try:\n",
        "    y = int(x)\n",
        "    print(\"get integer:\", y)\n",
        "    break\n",
        "  except:\n",
        "    print(\"you  must enter an integer, please try again\")"
      ],
      "execution_count": 34,
      "outputs": [
        {
          "output_type": "stream",
          "name": "stdout",
          "text": [
            "please enter an integer:sruthi\n",
            "you  must enter an integer, please try again\n",
            "please enter an integer:21 years\n",
            "you  must enter an integer, please try again\n",
            "please enter an integer:10\n",
            "get integer: 10\n"
          ]
        }
      ]
    }
  ]
}