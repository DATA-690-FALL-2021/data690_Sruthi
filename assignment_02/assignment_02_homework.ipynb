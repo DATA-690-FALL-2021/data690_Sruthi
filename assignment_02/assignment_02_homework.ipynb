{
  "nbformat": 4,
  "nbformat_minor": 0,
  "metadata": {
    "colab": {
      "name": "assignment_02_homework.ipynb",
      "provenance": [],
      "collapsed_sections": [],
      "authorship_tag": "ABX9TyMnFySwER0umzrGEXxCPcmR",
      "include_colab_link": true
    },
    "kernelspec": {
      "name": "python3",
      "display_name": "Python 3"
    },
    "language_info": {
      "name": "python"
    }
  },
  "cells": [
    {
      "cell_type": "markdown",
      "metadata": {
        "id": "view-in-github",
        "colab_type": "text"
      },
      "source": [
        "<a href=\"https://colab.research.google.com/github/sruthib22/data690_Sruthi/blob/main/assignment_02/assignment_02_homework.ipynb\" target=\"_parent\"><img src=\"https://colab.research.google.com/assets/colab-badge.svg\" alt=\"Open In Colab\"/></a>"
      ]
    },
    {
      "cell_type": "markdown",
      "metadata": {
        "id": "-0wxRlIy9zXA"
      },
      "source": [
        "## 1. promt user to insert 10 integers"
      ]
    },
    {
      "cell_type": "code",
      "metadata": {
        "colab": {
          "base_uri": "https://localhost:8080/"
        },
        "id": "vHyXEy5d88FO",
        "outputId": "3d43620e-41e7-474d-9273-d22642977720"
      },
      "source": [
        "my_list = []\n",
        "\n",
        "for i in range(10):\n",
        "  while True:\n",
        "    x=input(\"enter an integer:\")\n",
        "    try:\n",
        "      y = int(x)\n",
        "      my_list.append(y)\n",
        "      print(y, \"is an integer\")\n",
        "      break\n",
        "    except:\n",
        "      print(\"you must enter an integer, please try again\")\n",
        "\n",
        "print(\"the list of integers:\", my_list)"
      ],
      "execution_count": 9,
      "outputs": [
        {
          "output_type": "stream",
          "name": "stdout",
          "text": [
            "enter an integer:sruthi\n",
            "you must enter an integer, please try again\n",
            "enter an integer:22\n",
            "22 is an integer\n",
            "enter an integer:11\n",
            "11 is an integer\n",
            "enter an integer:anjali\n",
            "you must enter an integer, please try again\n",
            "enter an integer:06\n",
            "6 is an integer\n",
            "enter an integer:04\n",
            "4 is an integer\n",
            "enter an integer:02\n",
            "2 is an integer\n",
            "enter an integer:01\n",
            "1 is an integer\n",
            "enter an integer:13\n",
            "13 is an integer\n",
            "enter an integer:17\n",
            "17 is an integer\n",
            "enter an integer:18\n",
            "18 is an integer\n",
            "enter an integer:19\n",
            "19 is an integer\n",
            "the list of integers: [22, 11, 6, 4, 2, 1, 13, 17, 18, 19]\n"
          ]
        }
      ]
    },
    {
      "cell_type": "markdown",
      "metadata": {
        "id": "IW_grRN69woi"
      },
      "source": [
        "## 2. Minimum"
      ]
    },
    {
      "cell_type": "code",
      "metadata": {
        "colab": {
          "base_uri": "https://localhost:8080/"
        },
        "id": "WCAHlGnj-GqS",
        "outputId": "dc7441d3-c884-43cb-843b-4a98b88b1581"
      },
      "source": [
        "min = my_list[0]\n",
        "for i in range(len(my_list)):\n",
        "    if my_list[i]<min:\n",
        "      min = my_list[i]\n",
        "print(\"the minimum element is\", min)\n"
      ],
      "execution_count": 10,
      "outputs": [
        {
          "output_type": "stream",
          "name": "stdout",
          "text": [
            "the minimum element is 1\n"
          ]
        }
      ]
    },
    {
      "cell_type": "markdown",
      "metadata": {
        "id": "Doq8Iu-3-Kla"
      },
      "source": [
        "## 3. Maximum"
      ]
    },
    {
      "cell_type": "code",
      "metadata": {
        "colab": {
          "base_uri": "https://localhost:8080/"
        },
        "id": "xIAGUdkB-NZQ",
        "outputId": "806e3825-3bb1-4c7c-f268-873d88ecdc51"
      },
      "source": [
        "max = my_list[0]\n",
        "for i in range(len(my_list)):\n",
        "    if my_list[i]>max:\n",
        "      max = my_list[i]\n",
        "print(\"the minimum element is\", max)"
      ],
      "execution_count": 11,
      "outputs": [
        {
          "output_type": "stream",
          "name": "stdout",
          "text": [
            "the minimum element is 22\n"
          ]
        }
      ]
    },
    {
      "cell_type": "markdown",
      "metadata": {
        "id": "iqqhEXq9-Tie"
      },
      "source": [
        "## 4. Mean\n",
        " - sum of total / number of values in my_list\n"
      ]
    },
    {
      "cell_type": "code",
      "metadata": {
        "colab": {
          "base_uri": "https://localhost:8080/"
        },
        "id": "pQhGpGF2-Xuk",
        "outputId": "c9b8bfb6-90cb-4414-a632-855b3a9c951c"
      },
      "source": [
        "total = 0\n",
        "a = len(my_list)\n",
        "for i in range(a):\n",
        "  total = total + my_list[i]\n",
        "\n",
        "mean = total / len(my_list)\n",
        "print(\"the mean is :\", mean)"
      ],
      "execution_count": 12,
      "outputs": [
        {
          "output_type": "stream",
          "name": "stdout",
          "text": [
            "the mean is : 11.3\n"
          ]
        }
      ]
    },
    {
      "cell_type": "markdown",
      "metadata": {
        "id": "Sz9G3cQd-dgn"
      },
      "source": [
        "## 5. Variance\n",
        "  - calculate mean first\n",
        "  - then find the difference between each number and the mean\n",
        "  - now, calculate the square of the difference\n",
        "  - find the sum of all the values calculated\n",
        "  - finally, divide the total number of values minus 1 for sample variance \n",
        "                          or\n",
        "  - just divide by the total number of values for population variance\n",
        "\n",
        "\n",
        "\n",
        "### Population vs. Sample\n",
        "  The primary task of inferential statistics (or estimating or forecasting) is  making an opinion about something by using only an incomplete sample of data.\n",
        "\n",
        "  In statistics it is very important to distinguish between population and sample. A population is defined as all members (e.g. occurrences, prices, annual returns) of a specified group. Population is the whole group.\n",
        "\n",
        "  A sample is a part of a population that is used to describe the characteristics (e.g. mean or standard deviation) of the whole population. The size of a sample can be less than 1%, or 10%, or 60% of the population, but it is never the whole population\n",
        "\n"
      ]
    },
    {
      "cell_type": "code",
      "metadata": {
        "id": "dwEq9qB4-hmK",
        "colab": {
          "base_uri": "https://localhost:8080/"
        },
        "outputId": "4338bb59-b7db-4f7f-f33d-d4dc1903a1bc"
      },
      "source": [
        "population_variance = sum((i - mean) ** 2 for i in my_list) / len(my_list)\n",
        "sample_variance = sum((i - mean) ** 2 for i in my_list) / (len(my_list)-1)\n",
        "\n",
        "print(\"population variance is :\", population_variance)\n",
        "print(\"sample variance is :\", sample_variance)"
      ],
      "execution_count": 13,
      "outputs": [
        {
          "output_type": "stream",
          "name": "stdout",
          "text": [
            "population variance is : 52.81\n",
            "sample variance is : 58.67777777777778\n"
          ]
        }
      ]
    },
    {
      "cell_type": "markdown",
      "metadata": {
        "id": "NEhxditG_yMl"
      },
      "source": [
        "## 6. Standard Deviation\n",
        "  - square root of variance \n",
        "  - import math to make use of the sqrt function"
      ]
    },
    {
      "cell_type": "code",
      "metadata": {
        "colab": {
          "base_uri": "https://localhost:8080/"
        },
        "id": "NF0GXJPi_465",
        "outputId": "0dd701e7-098c-4ba5-dcce-476ec991c6e2"
      },
      "source": [
        "import math\n",
        "\n",
        "standard_deviation_population = math.sqrt(population_variance) # can also use standard_deviation = (variance ** 0.5)\n",
        "standard_deviation_sample = math.sqrt(sample_variance)\n",
        "print(\"standard deviation of population variance is :\",standard_deviation_population)\n",
        "print(\"standard deviation of sample variance is :\", standard_deviation_sample)"
      ],
      "execution_count": 14,
      "outputs": [
        {
          "output_type": "stream",
          "name": "stdout",
          "text": [
            "standard deviation of population variance is : 7.267048919609665\n",
            "standard deviation of sample variance is : 7.660142151277467\n"
          ]
        }
      ]
    },
    {
      "cell_type": "markdown",
      "metadata": {
        "id": "iAdKjTthBWCo"
      },
      "source": [
        "## 7. Range\n",
        "   - maximum - minimum = Range"
      ]
    },
    {
      "cell_type": "code",
      "metadata": {
        "id": "xATyKNx4BUqH",
        "colab": {
          "base_uri": "https://localhost:8080/"
        },
        "outputId": "34037f2e-9bee-4352-d161-6e79200af9db"
      },
      "source": [
        "print(\"Range = \", max - min)"
      ],
      "execution_count": 15,
      "outputs": [
        {
          "output_type": "stream",
          "name": "stdout",
          "text": [
            "Range =  21\n"
          ]
        }
      ]
    }
  ]
}