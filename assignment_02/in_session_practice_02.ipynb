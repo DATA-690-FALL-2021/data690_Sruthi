{
  "nbformat": 4,
  "nbformat_minor": 0,
  "metadata": {
    "colab": {
      "name": "in_session_practice_02.ipynb",
      "provenance": [],
      "authorship_tag": "ABX9TyN4tpeBtBTpCFco5CoCNsBl",
      "include_colab_link": true
    },
    "kernelspec": {
      "name": "python3",
      "display_name": "Python 3"
    },
    "language_info": {
      "name": "python"
    }
  },
  "cells": [
    {
      "cell_type": "markdown",
      "metadata": {
        "id": "view-in-github",
        "colab_type": "text"
      },
      "source": [
        "<a href=\"https://colab.research.google.com/github/sruthib22/data690_Sruthi/blob/main/assignment_02/in_session_practice_02.ipynb\" target=\"_parent\"><img src=\"https://colab.research.google.com/assets/colab-badge.svg\" alt=\"Open In Colab\"/></a>"
      ]
    },
    {
      "cell_type": "markdown",
      "metadata": {
        "id": "vMwPGSB_-6HH"
      },
      "source": [
        "## In- session Hands-on Practices\n",
        "\n",
        "sruthi\n"
      ]
    },
    {
      "cell_type": "markdown",
      "metadata": {
        "id": "r3WJNmlL_rkX"
      },
      "source": [
        "## 1. Simple Types"
      ]
    },
    {
      "cell_type": "code",
      "metadata": {
        "colab": {
          "base_uri": "https://localhost:8080/"
        },
        "id": "vXvFxhyW-p_v",
        "outputId": "11f2c70d-076a-44b2-cc38-f510f23cfd5e"
      },
      "source": [
        "x = 5        # integer\n",
        "y = 0.5      # foat\n",
        "s = \"Hello\"  #string, a collection of characters\n",
        "print(x, y, s)"
      ],
      "execution_count": 2,
      "outputs": [
        {
          "output_type": "stream",
          "name": "stdout",
          "text": [
            "5 0.5 Hello\n"
          ]
        }
      ]
    },
    {
      "cell_type": "markdown",
      "metadata": {
        "id": "TgY2RcJk_wA-"
      },
      "source": [
        "## 2. Collection Type"
      ]
    },
    {
      "cell_type": "code",
      "metadata": {
        "colab": {
          "base_uri": "https://localhost:8080/"
        },
        "id": "0Ai1X-ur_qG0",
        "outputId": "9f2f65c3-a7db-46bf-999c-18794f37e7dc"
      },
      "source": [
        "a_list = [1, 4, 7, 10]\n",
        "print(a_list)"
      ],
      "execution_count": 4,
      "outputs": [
        {
          "output_type": "stream",
          "name": "stdout",
          "text": [
            "[1, 4, 7, 10]\n"
          ]
        }
      ]
    },
    {
      "cell_type": "code",
      "metadata": {
        "colab": {
          "base_uri": "https://localhost:8080/"
        },
        "id": "hMyMiI04ApJN",
        "outputId": "1b98e1e4-0f33-498e-e956-3637a548c439"
      },
      "source": [
        "type(a_list)"
      ],
      "execution_count": 5,
      "outputs": [
        {
          "output_type": "execute_result",
          "data": {
            "text/plain": [
              "list"
            ]
          },
          "metadata": {},
          "execution_count": 5
        }
      ]
    },
    {
      "cell_type": "markdown",
      "metadata": {
        "id": "Zrro-pdtAt6X"
      },
      "source": [
        "## 3. Loop"
      ]
    },
    {
      "cell_type": "code",
      "metadata": {
        "colab": {
          "base_uri": "https://localhost:8080/"
        },
        "id": "BlfOmHBsAr2m",
        "outputId": "8781d364-f755-4fb3-c7a0-0525ed8840f9"
      },
      "source": [
        "for i in a_list:\n",
        "  print(\"integer\", i)"
      ],
      "execution_count": 8,
      "outputs": [
        {
          "output_type": "stream",
          "name": "stdout",
          "text": [
            "integer 1\n",
            "integer 4\n",
            "integer 7\n",
            "integer 10\n"
          ]
        }
      ]
    },
    {
      "cell_type": "markdown",
      "metadata": {
        "id": "jIYYwHCXBkrq"
      },
      "source": [
        "## 4. Conditions"
      ]
    },
    {
      "cell_type": "code",
      "metadata": {
        "colab": {
          "base_uri": "https://localhost:8080/"
        },
        "id": "HX-UKzOoB5RA",
        "outputId": "c3a5f817-0bf2-4b74-a6fa-2dd3937e8e48"
      },
      "source": [
        "print(10%2) #modulo"
      ],
      "execution_count": 9,
      "outputs": [
        {
          "output_type": "stream",
          "name": "stdout",
          "text": [
            "0\n"
          ]
        }
      ]
    },
    {
      "cell_type": "code",
      "metadata": {
        "colab": {
          "base_uri": "https://localhost:8080/"
        },
        "id": "usK0pbXTCIm7",
        "outputId": "231e1fa7-6259-4305-8f6e-5aefab5ae67b"
      },
      "source": [
        "print(23 % 2) #modulo"
      ],
      "execution_count": 10,
      "outputs": [
        {
          "output_type": "stream",
          "name": "stdout",
          "text": [
            "1\n"
          ]
        }
      ]
    },
    {
      "cell_type": "code",
      "metadata": {
        "colab": {
          "base_uri": "https://localhost:8080/"
        },
        "id": "ItERVksDCNZz",
        "outputId": "d9aaa32b-5511-4587-f5b8-0b353d8b71da"
      },
      "source": [
        "for i in a_list:\n",
        "  if i % 2==1:\n",
        "      print(\"integer\", i)"
      ],
      "execution_count": 12,
      "outputs": [
        {
          "output_type": "stream",
          "name": "stdout",
          "text": [
            "integer 1\n",
            "integer 7\n"
          ]
        }
      ]
    }
  ]
}