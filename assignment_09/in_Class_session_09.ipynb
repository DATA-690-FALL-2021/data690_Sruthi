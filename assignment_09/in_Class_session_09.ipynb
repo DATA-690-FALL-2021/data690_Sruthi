{
  "nbformat": 4,
  "nbformat_minor": 0,
  "metadata": {
    "colab": {
      "name": "in_Class_session_09.ipynb",
      "provenance": [],
      "authorship_tag": "ABX9TyPTc/R1QC7yxxw/RcpacOk7",
      "include_colab_link": true
    },
    "kernelspec": {
      "name": "python3",
      "display_name": "Python 3"
    },
    "language_info": {
      "name": "python"
    }
  },
  "cells": [
    {
      "cell_type": "markdown",
      "metadata": {
        "id": "view-in-github",
        "colab_type": "text"
      },
      "source": [
        "<a href=\"https://colab.research.google.com/github/sruthib22/data690_Sruthi/blob/main/assignment_09/in_Class_session_09.ipynb\" target=\"_parent\"><img src=\"https://colab.research.google.com/assets/colab-badge.svg\" alt=\"Open In Colab\"/></a>"
      ]
    },
    {
      "cell_type": "markdown",
      "metadata": {
        "id": "sS-7Kr7BRAoS"
      },
      "source": [
        "### In_Class_Session : 09\n",
        " - Name: Sruthi Batchala\n",
        " - Date: 10/2821"
      ]
    },
    {
      "cell_type": "code",
      "metadata": {
        "id": "edZonbTuQ-ya"
      },
      "source": [
        "import math_function as mf"
      ],
      "execution_count": 1,
      "outputs": []
    },
    {
      "cell_type": "code",
      "metadata": {
        "colab": {
          "base_uri": "https://localhost:8080/"
        },
        "id": "77sZQxz-R7td",
        "outputId": "494dba51-29c1-4fc4-d695-35c43687fd5a"
      },
      "source": [
        "a  = input(\"enter a number:\")"
      ],
      "execution_count": 8,
      "outputs": [
        {
          "name": "stdout",
          "output_type": "stream",
          "text": [
            "enter a number:100\n"
          ]
        }
      ]
    },
    {
      "cell_type": "code",
      "metadata": {
        "colab": {
          "base_uri": "https://localhost:8080/"
        },
        "id": "DGPZjTPiU1bR",
        "outputId": "4c052a64-013d-43b8-f4fd-b21b62392ed0"
      },
      "source": [
        "print(a)"
      ],
      "execution_count": 9,
      "outputs": [
        {
          "output_type": "stream",
          "name": "stdout",
          "text": [
            "100\n"
          ]
        }
      ]
    },
    {
      "cell_type": "code",
      "metadata": {
        "colab": {
          "base_uri": "https://localhost:8080/"
        },
        "id": "1YRvpbykU48A",
        "outputId": "0a2e2d97-6d71-4a41-81a9-a27a64a84c9e"
      },
      "source": [
        "b = input('enter a number:')"
      ],
      "execution_count": 10,
      "outputs": [
        {
          "name": "stdout",
          "output_type": "stream",
          "text": [
            "enter a number:5000\n"
          ]
        }
      ]
    },
    {
      "cell_type": "code",
      "metadata": {
        "colab": {
          "base_uri": "https://localhost:8080/"
        },
        "id": "LcHYUADJU8nH",
        "outputId": "32132acd-8fe9-41e8-f680-e80f1a5e0fe7"
      },
      "source": [
        "print(b)\n",
        "c = mf.addition(a,b)\n",
        "print(c)"
      ],
      "execution_count": 11,
      "outputs": [
        {
          "output_type": "stream",
          "name": "stdout",
          "text": [
            "5000\n",
            "1005000\n"
          ]
        }
      ]
    },
    {
      "cell_type": "code",
      "metadata": {
        "colab": {
          "base_uri": "https://localhost:8080/"
        },
        "id": "NnKEK-y4VLNb",
        "outputId": "e3e258b3-f4b9-42af-f4df-b3c58dd99eb5"
      },
      "source": [
        "a = 23\n",
        "b=50\n",
        "\n",
        "c = mf.addition(a,b)\n",
        "\n",
        "print(c)"
      ],
      "execution_count": 12,
      "outputs": [
        {
          "output_type": "stream",
          "name": "stdout",
          "text": [
            "73\n"
          ]
        }
      ]
    },
    {
      "cell_type": "code",
      "metadata": {
        "colab": {
          "base_uri": "https://localhost:8080/"
        },
        "id": "LWSdWa_eW2hO",
        "outputId": "d2bb52fe-6966-4f35-9130-9836a31f45a4"
      },
      "source": [
        "x = \"hello\"\n",
        "type(x)"
      ],
      "execution_count": 13,
      "outputs": [
        {
          "output_type": "execute_result",
          "data": {
            "text/plain": [
              "str"
            ]
          },
          "metadata": {},
          "execution_count": 13
        }
      ]
    },
    {
      "cell_type": "code",
      "metadata": {
        "id": "9SC2elEHZYoE"
      },
      "source": [
        ""
      ],
      "execution_count": null,
      "outputs": []
    }
  ]
}