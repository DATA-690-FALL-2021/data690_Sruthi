{
  "nbformat": 4,
  "nbformat_minor": 0,
  "metadata": {
    "colab": {
      "name": "in_class_Session_04.ipynb",
      "provenance": [],
      "collapsed_sections": [],
      "authorship_tag": "ABX9TyOuyjAOBAjDASbMlDZWTq/d",
      "include_colab_link": true
    },
    "kernelspec": {
      "name": "python3",
      "display_name": "Python 3"
    },
    "language_info": {
      "name": "python"
    }
  },
  "cells": [
    {
      "cell_type": "markdown",
      "metadata": {
        "id": "view-in-github",
        "colab_type": "text"
      },
      "source": [
        "<a href=\"https://colab.research.google.com/github/sruthib22/data690_Sruthi/blob/main/assignment_04/in_class_Session_04.ipynb\" target=\"_parent\"><img src=\"https://colab.research.google.com/assets/colab-badge.svg\" alt=\"Open In Colab\"/></a>"
      ]
    },
    {
      "cell_type": "markdown",
      "metadata": {
        "id": "ZLqKtD3uBDsK"
      },
      "source": [
        "## session 04 in_class parctice\n",
        " - Name: sruthi\n",
        " -  Date: 9/23/21\n",
        " "
      ]
    },
    {
      "cell_type": "code",
      "metadata": {
        "colab": {
          "base_uri": "https://localhost:8080/"
        },
        "id": "rAQpnKgPBA_H",
        "outputId": "f131df43-ba0b-4bdb-e7f5-409dab7f6d9b"
      },
      "source": [
        "with open(\"/content/in_class.txt\", 'r') as f:\n",
        "  lines = f.readlines()\n",
        "\n",
        "print(lines)"
      ],
      "execution_count": 2,
      "outputs": [
        {
          "output_type": "stream",
          "name": "stdout",
          "text": [
            "['age: continuous.\\n', 'workclass: Private, Self-emp-not-inc, Self-emp-inc, Federal-gov, Local-gov, State-gov, Without-pay, Never-worked.\\n', 'fnlwgt: continuous.\\n', 'education: Bachelors, Some-college, 11th, HS-grad, Prof-school, Assoc-acdm, Assoc-voc, 9th, 7th-8th, 12th, Masters, 1st-4th, 10th, Doctorate, 5th-6th, Preschool.\\n', 'education-num: continuous.\\n', 'marital-status: Married-civ-spouse, Divorced, Never-married, Separated, Widowed, Married-spouse-absent, Married-AF-spouse.\\n', 'occupation: Tech-support, Craft-repair, Other-service, Sales, Exec-managerial, Prof-specialty, Handlers-cleaners, Machine-op-inspct, Adm-clerical, Farming-fishing, Transport-moving, Priv-house-serv, Protective-serv, Armed-Forces.\\n', 'relationship: Wife, Own-child, Husband, Not-in-family, Other-relative, Unmarried.\\n', 'race: White, Asian-Pac-Islander, Amer-Indian-Eskimo, Other, Black.\\n', 'sex: Female, Male.\\n', 'capital-gain: continuous.\\n', 'capital-loss: continuous.\\n', 'hours-per-week: continuous.\\n', 'native-country: United-States, Cambodia, England, Puerto-Rico, Canada, Germany, Outlying-US(Guam-USVI-etc), India, Japan, Greece, South, China, Cuba, Iran, Honduras, Philippines, Italy, Poland, Jamaica, Vietnam, Mexico, Portugal, Ireland, France, Dominican-Republic, Laos, Ecuador, Taiwan, Haiti, Columbia, Hungary, Guatemala, Nicaragua, Scotland, Thailand, Yugoslavia, El-Salvador, Trinadad&Tobago, Peru, Hong, Holand-Netherlands.']\n"
          ]
        }
      ]
    },
    {
      "cell_type": "code",
      "metadata": {
        "colab": {
          "base_uri": "https://localhost:8080/"
        },
        "id": "HR_3XjLeCbI4",
        "outputId": "c6096fb7-207d-4849-d954-62681d6558a7"
      },
      "source": [
        "for i in range(len(lines)):\n",
        "  print(lines[i])\n",
        "\n"
      ],
      "execution_count": 7,
      "outputs": [
        {
          "output_type": "stream",
          "name": "stdout",
          "text": [
            "age: continuous.\n",
            "\n",
            "workclass: Private, Self-emp-not-inc, Self-emp-inc, Federal-gov, Local-gov, State-gov, Without-pay, Never-worked.\n",
            "\n",
            "fnlwgt: continuous.\n",
            "\n",
            "education: Bachelors, Some-college, 11th, HS-grad, Prof-school, Assoc-acdm, Assoc-voc, 9th, 7th-8th, 12th, Masters, 1st-4th, 10th, Doctorate, 5th-6th, Preschool.\n",
            "\n",
            "education-num: continuous.\n",
            "\n",
            "marital-status: Married-civ-spouse, Divorced, Never-married, Separated, Widowed, Married-spouse-absent, Married-AF-spouse.\n",
            "\n",
            "occupation: Tech-support, Craft-repair, Other-service, Sales, Exec-managerial, Prof-specialty, Handlers-cleaners, Machine-op-inspct, Adm-clerical, Farming-fishing, Transport-moving, Priv-house-serv, Protective-serv, Armed-Forces.\n",
            "\n",
            "relationship: Wife, Own-child, Husband, Not-in-family, Other-relative, Unmarried.\n",
            "\n",
            "race: White, Asian-Pac-Islander, Amer-Indian-Eskimo, Other, Black.\n",
            "\n",
            "sex: Female, Male.\n",
            "\n",
            "capital-gain: continuous.\n",
            "\n",
            "capital-loss: continuous.\n",
            "\n",
            "hours-per-week: continuous.\n",
            "\n",
            "native-country: United-States, Cambodia, England, Puerto-Rico, Canada, Germany, Outlying-US(Guam-USVI-etc), India, Japan, Greece, South, China, Cuba, Iran, Honduras, Philippines, Italy, Poland, Jamaica, Vietnam, Mexico, Portugal, Ireland, France, Dominican-Republic, Laos, Ecuador, Taiwan, Haiti, Columbia, Hungary, Guatemala, Nicaragua, Scotland, Thailand, Yugoslavia, El-Salvador, Trinadad&Tobago, Peru, Hong, Holand-Netherlands.\n"
          ]
        }
      ]
    },
    {
      "cell_type": "code",
      "metadata": {
        "colab": {
          "base_uri": "https://localhost:8080/"
        },
        "id": "cTzGFKvCDNjv",
        "outputId": "873105a2-fc2c-4bb0-e416-5c6076041171"
      },
      "source": [
        "print(len(lines))"
      ],
      "execution_count": 8,
      "outputs": [
        {
          "output_type": "stream",
          "name": "stdout",
          "text": [
            "14\n"
          ]
        }
      ]
    },
    {
      "cell_type": "code",
      "metadata": {
        "colab": {
          "base_uri": "https://localhost:8080/"
        },
        "id": "2c5T1SlvDnow",
        "outputId": "9a987cb8-d00a-441c-eb04-aebd24ff42ec"
      },
      "source": [
        "column_names = [line.split(\":\")[0] for line in lines]\n",
        "\n",
        "print(column_names)"
      ],
      "execution_count": 9,
      "outputs": [
        {
          "output_type": "stream",
          "name": "stdout",
          "text": [
            "['age', 'workclass', 'fnlwgt', 'education', 'education-num', 'marital-status', 'occupation', 'relationship', 'race', 'sex', 'capital-gain', 'capital-loss', 'hours-per-week', 'native-country']\n"
          ]
        }
      ]
    },
    {
      "cell_type": "code",
      "metadata": {
        "colab": {
          "base_uri": "https://localhost:8080/"
        },
        "id": "NbaBD_39ELMK",
        "outputId": "212b2e58-ea43-466e-aaea-0c5f049c4fb5"
      },
      "source": [
        "column_names = []\n",
        "\n",
        "for line in lines:\n",
        "  name = line.split(\":\")[0]\n",
        "  column_names.append(name)\n",
        "  \n",
        "\n",
        "print(column_names)"
      ],
      "execution_count": 11,
      "outputs": [
        {
          "output_type": "stream",
          "name": "stdout",
          "text": [
            "['age', 'workclass', 'fnlwgt', 'education', 'education-num', 'marital-status', 'occupation', 'relationship', 'race', 'sex', 'capital-gain', 'capital-loss', 'hours-per-week', 'native-country']\n"
          ]
        }
      ]
    },
    {
      "cell_type": "code",
      "metadata": {
        "id": "a4II5c8LElHH"
      },
      "source": [
        "#file1 = open(\"column_names\", 'w')\n",
        "\n",
        "with open(\"in_class_out.txt\", \"w\") as f:\n",
        "  for name in column_names:\n",
        "    f.write(name)\n",
        "    f.write(\"\\n\")"
      ],
      "execution_count": 18,
      "outputs": []
    },
    {
      "cell_type": "code",
      "metadata": {
        "id": "VzUWMDVjFPIk"
      },
      "source": [
        "#file1 = open(\"column_names\", 'w')\n",
        "\n",
        "with open(\"in_class_out.txt\", \"w\") as f:\n",
        "  for name in column_names:\n",
        "    if i < len(column_names):\n",
        "      f.write(name)\n",
        "      f.write(\"\\n\")"
      ],
      "execution_count": 19,
      "outputs": []
    },
    {
      "cell_type": "code",
      "metadata": {
        "id": "wK1QtYytHNZy"
      },
      "source": [
        ""
      ],
      "execution_count": null,
      "outputs": []
    }
  ]
}