{
  "nbformat": 4,
  "nbformat_minor": 0,
  "metadata": {
    "colab": {
      "name": "homework_assignment_04_PART_A.ipynb",
      "provenance": [],
      "collapsed_sections": [],
      "authorship_tag": "ABX9TyNEtLWImUZWKYqPoJnEx7Jy",
      "include_colab_link": true
    },
    "kernelspec": {
      "name": "python3",
      "display_name": "Python 3"
    },
    "language_info": {
      "name": "python"
    }
  },
  "cells": [
    {
      "cell_type": "markdown",
      "metadata": {
        "id": "view-in-github",
        "colab_type": "text"
      },
      "source": [
        "<a href=\"https://colab.research.google.com/github/sruthib22/data690_Sruthi/blob/main/assignment_04/homework_assignment_04.ipynb\" target=\"_parent\"><img src=\"https://colab.research.google.com/assets/colab-badge.svg\" alt=\"Open In Colab\"/></a>"
      ]
    },
    {
      "cell_type": "code",
      "metadata": {
        "id": "rpb_nQLxE3Nz"
      },
      "source": [
        "import pandas as pd"
      ],
      "execution_count": 1,
      "outputs": []
    },
    {
      "cell_type": "code",
      "metadata": {
        "id": "B94BWBvbFKsD",
        "colab": {
          "base_uri": "https://localhost:8080/"
        },
        "outputId": "72217dd0-65cd-4f00-e6c6-838cad03e4ca"
      },
      "source": [
        "with open(\"/content/census_costs.txt\" , \"r\") as f:\n",
        "   line_list = f.readlines()\n",
        "print(line_list)"
      ],
      "execution_count": 3,
      "outputs": [
        {
          "output_type": "stream",
          "name": "stdout",
          "text": [
            "['Census Year\\tTotal Population\\tCensus Cost\\tAverage Cost Per Person\\n', '1790\\t3,929,214\\t$44,377\\t1.13 cents\\n', '1800\\t5,308,483\\t$66,109\\t1.24 cents\\n', '1810\\t7,239,881\\t$178,445\\t2.46 cents\\n', '1820\\t9,633,822\\t$208,526\\t2.16 cents\\n', '1830\\t12,866,020\\t$378,545\\t2.94 cents\\n', '1840\\t17,069,458\\t$833,371\\t4.88 cents\\n', '1850\\t23,191,876\\t$1,423,351\\t6.14 cents\\n', '1860\\t31,443,321\\t$1,969,377\\t6.26 cents\\n', '1870\\t38,558,371\\t$3,421,198\\t8.87 cents\\n', '1880\\t50,155,783\\t$5,790,678\\t11.54 cents\\n', '1890\\t62,979,766\\t$11,547,127\\t18.33 cents\\n', '1900\\t76,303,387\\t$11,854,000\\t15.54 cents\\n', '1910\\t91,972,266\\t$15,968,000\\t17.07 cents\\n', '1920\\t105,710,620\\t$25,117,000\\t23.76 cents\\n', '1930\\t122,775,046\\t$40,156,000\\t32.71 cents\\n', '1940\\t131,669,275\\t$67,527,000\\t51.29 cents\\n', '1950\\t151,325,798\\t$91,462,000\\t60.44 cents\\n', '1960\\t179,323,175\\t$127,934,000\\t71.34 cents\\n', '1970\\t203,302,031\\t$247,653,000\\t$1.22\\n', '1980\\t226,542,199\\t$1,078,488,000\\t$4.76\\n', '1990\\t248,718,301\\t$2,492,830,000\\t$10.02\\n', '2000\\t281,421,906\\t$4.5 Billion\\t$15.99\\n', '2010*\\t308,745,538\\t$13 Billion\\t$42.11']\n"
          ]
        }
      ]
    },
    {
      "cell_type": "markdown",
      "metadata": {
        "id": "Nvws_OMO01pn"
      },
      "source": [
        "## creating another list which contains just the first one row\n",
        " - top_list2"
      ]
    },
    {
      "cell_type": "code",
      "metadata": {
        "id": "78hm7LIwF8FR"
      },
      "source": [
        "top_list2 = 0 \n",
        "top_list2 = line_list[:1]\n"
      ],
      "execution_count": 5,
      "outputs": []
    },
    {
      "cell_type": "code",
      "metadata": {
        "id": "p5jCH4ENG1oH",
        "colab": {
          "base_uri": "https://localhost:8080/"
        },
        "outputId": "e13bbdc9-9414-438e-fe4d-db828f3bf701"
      },
      "source": [
        "top_list2"
      ],
      "execution_count": 7,
      "outputs": [
        {
          "output_type": "execute_result",
          "data": {
            "text/plain": [
              "['Census Year\\tTotal Population\\tCensus Cost\\tAverage Cost Per Person\\n']"
            ]
          },
          "metadata": {},
          "execution_count": 7
        }
      ]
    },
    {
      "cell_type": "markdown",
      "metadata": {
        "id": "0IaXoV3N2V2l"
      },
      "source": [
        "## data_list for storing the contents "
      ]
    },
    {
      "cell_type": "code",
      "metadata": {
        "colab": {
          "base_uri": "https://localhost:8080/"
        },
        "id": "ueQvKDKuvqGF",
        "outputId": "d7c8c14f-d2d7-4d68-eb1f-bb82de75a396"
      },
      "source": [
        "data_list = 0 \n",
        "data_list = line_list[1:]\n",
        "print(data_list)"
      ],
      "execution_count": 8,
      "outputs": [
        {
          "output_type": "stream",
          "name": "stdout",
          "text": [
            "['1790\\t3,929,214\\t$44,377\\t1.13 cents\\n', '1800\\t5,308,483\\t$66,109\\t1.24 cents\\n', '1810\\t7,239,881\\t$178,445\\t2.46 cents\\n', '1820\\t9,633,822\\t$208,526\\t2.16 cents\\n', '1830\\t12,866,020\\t$378,545\\t2.94 cents\\n', '1840\\t17,069,458\\t$833,371\\t4.88 cents\\n', '1850\\t23,191,876\\t$1,423,351\\t6.14 cents\\n', '1860\\t31,443,321\\t$1,969,377\\t6.26 cents\\n', '1870\\t38,558,371\\t$3,421,198\\t8.87 cents\\n', '1880\\t50,155,783\\t$5,790,678\\t11.54 cents\\n', '1890\\t62,979,766\\t$11,547,127\\t18.33 cents\\n', '1900\\t76,303,387\\t$11,854,000\\t15.54 cents\\n', '1910\\t91,972,266\\t$15,968,000\\t17.07 cents\\n', '1920\\t105,710,620\\t$25,117,000\\t23.76 cents\\n', '1930\\t122,775,046\\t$40,156,000\\t32.71 cents\\n', '1940\\t131,669,275\\t$67,527,000\\t51.29 cents\\n', '1950\\t151,325,798\\t$91,462,000\\t60.44 cents\\n', '1960\\t179,323,175\\t$127,934,000\\t71.34 cents\\n', '1970\\t203,302,031\\t$247,653,000\\t$1.22\\n', '1980\\t226,542,199\\t$1,078,488,000\\t$4.76\\n', '1990\\t248,718,301\\t$2,492,830,000\\t$10.02\\n', '2000\\t281,421,906\\t$4.5 Billion\\t$15.99\\n', '2010*\\t308,745,538\\t$13 Billion\\t$42.11']\n"
          ]
        }
      ]
    },
    {
      "cell_type": "code",
      "metadata": {
        "colab": {
          "base_uri": "https://localhost:8080/"
        },
        "id": "6gZpgqHovsGj",
        "outputId": "c93ef301-b4f3-4722-c8fc-3f15671a69a7"
      },
      "source": [
        "for i in range(len(line_list)):\n",
        "  print(line_list[i], sep='\\t')"
      ],
      "execution_count": 9,
      "outputs": [
        {
          "output_type": "stream",
          "name": "stdout",
          "text": [
            "Census Year\tTotal Population\tCensus Cost\tAverage Cost Per Person\n",
            "\n",
            "1790\t3,929,214\t$44,377\t1.13 cents\n",
            "\n",
            "1800\t5,308,483\t$66,109\t1.24 cents\n",
            "\n",
            "1810\t7,239,881\t$178,445\t2.46 cents\n",
            "\n",
            "1820\t9,633,822\t$208,526\t2.16 cents\n",
            "\n",
            "1830\t12,866,020\t$378,545\t2.94 cents\n",
            "\n",
            "1840\t17,069,458\t$833,371\t4.88 cents\n",
            "\n",
            "1850\t23,191,876\t$1,423,351\t6.14 cents\n",
            "\n",
            "1860\t31,443,321\t$1,969,377\t6.26 cents\n",
            "\n",
            "1870\t38,558,371\t$3,421,198\t8.87 cents\n",
            "\n",
            "1880\t50,155,783\t$5,790,678\t11.54 cents\n",
            "\n",
            "1890\t62,979,766\t$11,547,127\t18.33 cents\n",
            "\n",
            "1900\t76,303,387\t$11,854,000\t15.54 cents\n",
            "\n",
            "1910\t91,972,266\t$15,968,000\t17.07 cents\n",
            "\n",
            "1920\t105,710,620\t$25,117,000\t23.76 cents\n",
            "\n",
            "1930\t122,775,046\t$40,156,000\t32.71 cents\n",
            "\n",
            "1940\t131,669,275\t$67,527,000\t51.29 cents\n",
            "\n",
            "1950\t151,325,798\t$91,462,000\t60.44 cents\n",
            "\n",
            "1960\t179,323,175\t$127,934,000\t71.34 cents\n",
            "\n",
            "1970\t203,302,031\t$247,653,000\t$1.22\n",
            "\n",
            "1980\t226,542,199\t$1,078,488,000\t$4.76\n",
            "\n",
            "1990\t248,718,301\t$2,492,830,000\t$10.02\n",
            "\n",
            "2000\t281,421,906\t$4.5 Billion\t$15.99\n",
            "\n",
            "2010*\t308,745,538\t$13 Billion\t$42.11\n"
          ]
        }
      ]
    },
    {
      "cell_type": "code",
      "metadata": {
        "colab": {
          "base_uri": "https://localhost:8080/"
        },
        "id": "mKa9ppBmvvMj",
        "outputId": "190f27b1-3767-4029-babc-79d42a072365"
      },
      "source": [
        "column_names = [line.split(\",\")[0] for line in line_list[:1]]\n",
        "\n",
        "print(column_names)"
      ],
      "execution_count": 10,
      "outputs": [
        {
          "output_type": "stream",
          "name": "stdout",
          "text": [
            "['Census Year\\tTotal Population\\tCensus Cost\\tAverage Cost Per Person\\n']\n"
          ]
        }
      ]
    },
    {
      "cell_type": "markdown",
      "metadata": {
        "id": "ttx4IRwi3p3R"
      },
      "source": [
        "## year_list1 to store the census year column data\n"
      ]
    },
    {
      "cell_type": "code",
      "metadata": {
        "colab": {
          "base_uri": "https://localhost:8080/"
        },
        "id": "p7CaRCF2vy9x",
        "outputId": "533a7b4f-4d83-45d3-d322-34f3a8f96220"
      },
      "source": [
        "year_list= [line.split(\",\")[0] for line in data_list ]\n",
        "print(year_list)"
      ],
      "execution_count": 11,
      "outputs": [
        {
          "output_type": "stream",
          "name": "stdout",
          "text": [
            "['1790\\t3', '1800\\t5', '1810\\t7', '1820\\t9', '1830\\t12', '1840\\t17', '1850\\t23', '1860\\t31', '1870\\t38', '1880\\t50', '1890\\t62', '1900\\t76', '1910\\t91', '1920\\t105', '1930\\t122', '1940\\t131', '1950\\t151', '1960\\t179', '1970\\t203', '1980\\t226', '1990\\t248', '2000\\t281', '2010*\\t308']\n"
          ]
        }
      ]
    },
    {
      "cell_type": "code",
      "metadata": {
        "colab": {
          "base_uri": "https://localhost:8080/"
        },
        "id": "3SksjXx5v1WR",
        "outputId": "905d8074-f16a-4b54-978a-a2f6199aab6a"
      },
      "source": [
        "year_list= [line.split(\"\\t\")[0] for line in data_list ]\n",
        "print(year_list)"
      ],
      "execution_count": 18,
      "outputs": [
        {
          "output_type": "stream",
          "name": "stdout",
          "text": [
            "['1790', '1800', '1810', '1820', '1830', '1840', '1850', '1860', '1870', '1880', '1890', '1900', '1910', '1920', '1930', '1940', '1950', '1960', '1970', '1980', '1990', '2000', '2010*']\n"
          ]
        }
      ]
    },
    {
      "cell_type": "code",
      "metadata": {
        "colab": {
          "base_uri": "https://localhost:8080/"
        },
        "id": "FWbSkbDL31nc",
        "outputId": "7a8d763e-b68e-4f4a-c8a3-b0b783c7766e"
      },
      "source": [
        "year_list1 = [line.strip(\"*\") for line in year_list]\n",
        "print(year_list1)"
      ],
      "execution_count": 19,
      "outputs": [
        {
          "output_type": "stream",
          "name": "stdout",
          "text": [
            "['1790', '1800', '1810', '1820', '1830', '1840', '1850', '1860', '1870', '1880', '1890', '1900', '1910', '1920', '1930', '1940', '1950', '1960', '1970', '1980', '1990', '2000', '2010']\n"
          ]
        }
      ]
    },
    {
      "cell_type": "markdown",
      "metadata": {
        "id": "d_JFTEUT4Zye"
      },
      "source": [
        "## pop_list to store the total population"
      ]
    },
    {
      "cell_type": "code",
      "metadata": {
        "colab": {
          "base_uri": "https://localhost:8080/"
        },
        "id": "3vIthKoJv4ed",
        "outputId": "a85b71f7-4bec-4ede-be65-d51485fb973b"
      },
      "source": [
        "census= [line.split(\"\\t\")[1] for line in data_list ]\n",
        "print(census)"
      ],
      "execution_count": 20,
      "outputs": [
        {
          "output_type": "stream",
          "name": "stdout",
          "text": [
            "['3,929,214', '5,308,483', '7,239,881', '9,633,822', '12,866,020', '17,069,458', '23,191,876', '31,443,321', '38,558,371', '50,155,783', '62,979,766', '76,303,387', '91,972,266', '105,710,620', '122,775,046', '131,669,275', '151,325,798', '179,323,175', '203,302,031', '226,542,199', '248,718,301', '281,421,906', '308,745,538']\n"
          ]
        }
      ]
    },
    {
      "cell_type": "code",
      "metadata": {
        "id": "mR1F6gmdv71X"
      },
      "source": [
        "def remove_comma(number):\n",
        "\n",
        "    number = number.replace(\",\", \"\")\n",
        "    return number"
      ],
      "execution_count": 39,
      "outputs": []
    },
    {
      "cell_type": "code",
      "metadata": {
        "colab": {
          "base_uri": "https://localhost:8080/"
        },
        "id": "2O_g1ZR3v-I5",
        "outputId": "920918f5-b4f9-45d6-b025-0dbfd80e2500"
      },
      "source": [
        "pop_list=[]\n",
        "for x in census:\n",
        "    ppl = remove_comma(x)\n",
        "    pop_list.append(ppl)\n",
        "  \n",
        "print(pop_list)"
      ],
      "execution_count": 40,
      "outputs": [
        {
          "output_type": "stream",
          "name": "stdout",
          "text": [
            "['3929214', '5308483', '7239881', '9633822', '12866020', '17069458', '23191876', '31443321', '38558371', '50155783', '62979766', '76303387', '91972266', '105710620', '122775046', '131669275', '151325798', '179323175', '203302031', '226542199', '248718301', '281421906', '308745538']\n"
          ]
        }
      ]
    },
    {
      "cell_type": "code",
      "metadata": {
        "colab": {
          "base_uri": "https://localhost:8080/"
        },
        "id": "SB26uH3dwBXo",
        "outputId": "b44caec5-6c22-4a02-aa50-97e3c2237b4d"
      },
      "source": [
        "cost = [line.split(\"\\t\")[2] for line in data_list ]\n",
        "print(cost)"
      ],
      "execution_count": 41,
      "outputs": [
        {
          "output_type": "stream",
          "name": "stdout",
          "text": [
            "['$44,377', '$66,109', '$178,445', '$208,526', '$378,545', '$833,371', '$1,423,351', '$1,969,377', '$3,421,198', '$5,790,678', '$11,547,127', '$11,854,000', '$15,968,000', '$25,117,000', '$40,156,000', '$67,527,000', '$91,462,000', '$127,934,000', '$247,653,000', '$1,078,488,000', '$2,492,830,000', '$4.5 Billion', '$13 Billion']\n"
          ]
        }
      ]
    },
    {
      "cell_type": "code",
      "metadata": {
        "colab": {
          "base_uri": "https://localhost:8080/"
        },
        "id": "OFajSxJcwEG0",
        "outputId": "85fd9af1-731b-467b-edd8-6b4552184c59"
      },
      "source": [
        "cost_list = [line.strip(\"$\") for line in cost ]\n",
        "\n",
        "print(cost_list)"
      ],
      "execution_count": 42,
      "outputs": [
        {
          "output_type": "stream",
          "name": "stdout",
          "text": [
            "['44,377', '66,109', '178,445', '208,526', '378,545', '833,371', '1,423,351', '1,969,377', '3,421,198', '5,790,678', '11,547,127', '11,854,000', '15,968,000', '25,117,000', '40,156,000', '67,527,000', '91,462,000', '127,934,000', '247,653,000', '1,078,488,000', '2,492,830,000', '4.5 Billion', '13 Billion']\n"
          ]
        }
      ]
    },
    {
      "cell_type": "code",
      "metadata": {
        "id": "H8Lf8NuOwHLq"
      },
      "source": [
        "\n",
        "def cleanse_cost(uncleaned_cost):\n",
        "    cost = uncleaned_cost.lstrip(\"$\").replace(\",\",\"\")\n",
        "    if  uncleaned_cost.find(\"4.5\") != -1:         \n",
        "        cost = \"45\" + \"0\" * 8\n",
        "    elif uncleaned_cost.find(\"Billion\") != -1:  \n",
        "        cost = \"13\" + \"0\" * 9\n",
        "    return cost"
      ],
      "execution_count": 43,
      "outputs": []
    },
    {
      "cell_type": "code",
      "metadata": {
        "colab": {
          "base_uri": "https://localhost:8080/"
        },
        "id": "w2EAWhCFwj49",
        "outputId": "bdd9b0e1-9ca8-4d77-9497-128a6cbec8c5"
      },
      "source": [
        "cost_list = []\n",
        "for line in data_list:\n",
        "    cost = line.split(\"\\t\")[2]\n",
        "    cost = cleanse_cost(cost)\n",
        "    cost_list.append(cost)\n",
        "\n",
        "print(cost_list)"
      ],
      "execution_count": 44,
      "outputs": [
        {
          "output_type": "stream",
          "name": "stdout",
          "text": [
            "['44377', '66109', '178445', '208526', '378545', '833371', '1423351', '1969377', '3421198', '5790678', '11547127', '11854000', '15968000', '25117000', '40156000', '67527000', '91462000', '127934000', '247653000', '1078488000', '2492830000', '4500000000', '13000000000']\n"
          ]
        }
      ]
    },
    {
      "cell_type": "markdown",
      "metadata": {
        "id": "FDVQ1www7AGP"
      },
      "source": [
        "## avg_list to store average cost per person"
      ]
    },
    {
      "cell_type": "code",
      "metadata": {
        "colab": {
          "base_uri": "https://localhost:8080/"
        },
        "id": "FC-Nv3Dtwrga",
        "outputId": "a13b83c1-56b8-4858-8cb9-7de6957811c2"
      },
      "source": [
        "avg = [line.split(\"\\t\")[-1] for line in data_list ]\n",
        "print(avg)"
      ],
      "execution_count": 45,
      "outputs": [
        {
          "output_type": "stream",
          "name": "stdout",
          "text": [
            "['1.13 cents\\n', '1.24 cents\\n', '2.46 cents\\n', '2.16 cents\\n', '2.94 cents\\n', '4.88 cents\\n', '6.14 cents\\n', '6.26 cents\\n', '8.87 cents\\n', '11.54 cents\\n', '18.33 cents\\n', '15.54 cents\\n', '17.07 cents\\n', '23.76 cents\\n', '32.71 cents\\n', '51.29 cents\\n', '60.44 cents\\n', '71.34 cents\\n', '$1.22\\n', '$4.76\\n', '$10.02\\n', '$15.99\\n', '$42.11']\n"
          ]
        }
      ]
    },
    {
      "cell_type": "code",
      "metadata": {
        "colab": {
          "base_uri": "https://localhost:8080/"
        },
        "id": "dLJ7dTaZzqQr",
        "outputId": "fd16f95c-e21c-4841-8e77-7ab3fc5b835b"
      },
      "source": [
        "avg_cost_list = [line.strip(\"cents\\n\") for line in avg ]\n",
        "\n",
        "print(avg_cost_list)\n",
        "\n"
      ],
      "execution_count": 46,
      "outputs": [
        {
          "output_type": "stream",
          "name": "stdout",
          "text": [
            "['1.13 ', '1.24 ', '2.46 ', '2.16 ', '2.94 ', '4.88 ', '6.14 ', '6.26 ', '8.87 ', '11.54 ', '18.33 ', '15.54 ', '17.07 ', '23.76 ', '32.71 ', '51.29 ', '60.44 ', '71.34 ', '$1.22', '$4.76', '$10.02', '$15.99', '$42.11']\n"
          ]
        }
      ]
    },
    {
      "cell_type": "code",
      "metadata": {
        "colab": {
          "base_uri": "https://localhost:8080/"
        },
        "id": "WcJs-b7Y_2bU",
        "outputId": "99e0c67d-c9cd-424b-a8b2-4f87aadcece5"
      },
      "source": [
        "avg_cost_list1 = [line.strip(\"$\") for line in avg_cost_list]\n",
        "\n",
        "print(avg_cost_list1)"
      ],
      "execution_count": 47,
      "outputs": [
        {
          "output_type": "stream",
          "name": "stdout",
          "text": [
            "['1.13 ', '1.24 ', '2.46 ', '2.16 ', '2.94 ', '4.88 ', '6.14 ', '6.26 ', '8.87 ', '11.54 ', '18.33 ', '15.54 ', '17.07 ', '23.76 ', '32.71 ', '51.29 ', '60.44 ', '71.34 ', '1.22', '4.76', '10.02', '15.99', '42.11']\n"
          ]
        }
      ]
    },
    {
      "cell_type": "code",
      "metadata": {
        "id": "3kGaU2g53nOe",
        "colab": {
          "base_uri": "https://localhost:8080/"
        },
        "outputId": "5ce859ce-7aa5-4cb1-a467-bf714ed5cb02"
      },
      "source": [
        "for i in range(len(avg_cost_list1)):\n",
        "  avg_cost_list1[i] = float(avg_cost_list1[i])\n",
        "  avg_cost_list1[i] = avg_cost_list1[i]/100\n",
        "  avg_list = avg_cost_list1\n",
        "print(avg_list)"
      ],
      "execution_count": 48,
      "outputs": [
        {
          "output_type": "stream",
          "name": "stdout",
          "text": [
            "[0.0113, 0.0124, 0.0246, 0.0216, 0.0294, 0.048799999999999996, 0.061399999999999996, 0.0626, 0.08869999999999999, 0.11539999999999999, 0.1833, 0.15539999999999998, 0.1707, 0.2376, 0.3271, 0.5129, 0.6043999999999999, 0.7134, 0.012199999999999999, 0.047599999999999996, 0.1002, 0.15990000000000001, 0.4211]\n"
          ]
        }
      ]
    },
    {
      "cell_type": "code",
      "metadata": {
        "colab": {
          "base_uri": "https://localhost:8080/"
        },
        "id": "mO60DvC1w1xp",
        "outputId": "9f104561-b47b-4abb-e246-9c8d2d6e43a5"
      },
      "source": [
        "final_list= []\n",
        "final_list.append(top_list2)\n",
        "for i in range(0,len(pop_list)):\n",
        "  full_data = year_list[i]+\"  \"+pop_list[i]+\" \"+cost_list[i]+\"  \"+str(avg_list[i])\n",
        "  final_list.append(complete)\n",
        "print(final_list)"
      ],
      "execution_count": 59,
      "outputs": [
        {
          "output_type": "stream",
          "name": "stdout",
          "text": [
            "[['Census Year\\tTotal Population\\tCensus Cost\\tAverage Cost Per Person\\n'], '2010*  308745538 13000000000  0.4211', '2010*  308745538 13000000000  0.4211', '2010*  308745538 13000000000  0.4211', '2010*  308745538 13000000000  0.4211', '2010*  308745538 13000000000  0.4211', '2010*  308745538 13000000000  0.4211', '2010*  308745538 13000000000  0.4211', '2010*  308745538 13000000000  0.4211', '2010*  308745538 13000000000  0.4211', '2010*  308745538 13000000000  0.4211', '2010*  308745538 13000000000  0.4211', '2010*  308745538 13000000000  0.4211', '2010*  308745538 13000000000  0.4211', '2010*  308745538 13000000000  0.4211', '2010*  308745538 13000000000  0.4211', '2010*  308745538 13000000000  0.4211', '2010*  308745538 13000000000  0.4211', '2010*  308745538 13000000000  0.4211', '2010*  308745538 13000000000  0.4211', '2010*  308745538 13000000000  0.4211', '2010*  308745538 13000000000  0.4211', '2010*  308745538 13000000000  0.4211', '2010*  308745538 13000000000  0.4211']\n"
          ]
        }
      ]
    },
    {
      "cell_type": "code",
      "metadata": {
        "id": "fWuJuN2OGpUD"
      },
      "source": [
        "for i in range(len(final_list)):\n",
        "  finale = final_list[i]\n",
        "  "
      ],
      "execution_count": null,
      "outputs": []
    },
    {
      "cell_type": "code",
      "metadata": {
        "id": "96z8kfyX8LDE"
      },
      "source": [
        "import csv\n",
        "with open(\"census_cost.csv\",\"w\") as f:\n",
        "  for i in range(len(final_list)):\n",
        "      finale = final_list[i]\n",
        "      for i in finale:\n",
        "        f.write(i)"
      ],
      "execution_count": 63,
      "outputs": []
    },
    {
      "cell_type": "code",
      "metadata": {
        "id": "hISzvjIKG98W"
      },
      "source": [
        ""
      ],
      "execution_count": null,
      "outputs": []
    }
  ]
}