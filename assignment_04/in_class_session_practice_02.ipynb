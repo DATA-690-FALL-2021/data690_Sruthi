{
  "nbformat": 4,
  "nbformat_minor": 0,
  "metadata": {
    "colab": {
      "name": "in_class_session_practice_02.ipynb",
      "provenance": [],
      "collapsed_sections": [],
      "authorship_tag": "ABX9TyPFCQcqZreDp3/zXv76G/D0",
      "include_colab_link": true
    },
    "kernelspec": {
      "name": "python3",
      "display_name": "Python 3"
    },
    "language_info": {
      "name": "python"
    }
  },
  "cells": [
    {
      "cell_type": "markdown",
      "metadata": {
        "id": "view-in-github",
        "colab_type": "text"
      },
      "source": [
        "<a href=\"https://colab.research.google.com/github/sruthib22/data690_Sruthi/blob/main/assignment_04/in_class_session_practice_02.ipynb\" target=\"_parent\"><img src=\"https://colab.research.google.com/assets/colab-badge.svg\" alt=\"Open In Colab\"/></a>"
      ]
    },
    {
      "cell_type": "markdown",
      "metadata": {
        "id": "QsJRhORqOFAE"
      },
      "source": [
        "## in class practice pandas\n",
        " - sruthi \n",
        " - 23rd september"
      ]
    },
    {
      "cell_type": "code",
      "metadata": {
        "id": "yqLyHGuuCw1f"
      },
      "source": [
        "import pandas as pd"
      ],
      "execution_count": 2,
      "outputs": []
    },
    {
      "cell_type": "code",
      "metadata": {
        "id": "BkDV7KNnPjo9"
      },
      "source": [
        "df = pd.read_csv(\"/content/census_costs.txt\", sep=\"\\t\")"
      ],
      "execution_count": 3,
      "outputs": []
    },
    {
      "cell_type": "code",
      "metadata": {
        "colab": {
          "base_uri": "https://localhost:8080/",
          "height": 203
        },
        "id": "0ZWSLpQjP3cG",
        "outputId": "8cc5c6bd-793f-4a56-a854-892c76b93873"
      },
      "source": [
        "df.head()"
      ],
      "execution_count": 4,
      "outputs": [
        {
          "output_type": "execute_result",
          "data": {
            "text/html": [
              "<div>\n",
              "<style scoped>\n",
              "    .dataframe tbody tr th:only-of-type {\n",
              "        vertical-align: middle;\n",
              "    }\n",
              "\n",
              "    .dataframe tbody tr th {\n",
              "        vertical-align: top;\n",
              "    }\n",
              "\n",
              "    .dataframe thead th {\n",
              "        text-align: right;\n",
              "    }\n",
              "</style>\n",
              "<table border=\"1\" class=\"dataframe\">\n",
              "  <thead>\n",
              "    <tr style=\"text-align: right;\">\n",
              "      <th></th>\n",
              "      <th>Census Year</th>\n",
              "      <th>Total Population</th>\n",
              "      <th>Census Cost</th>\n",
              "      <th>Average Cost Per Person</th>\n",
              "    </tr>\n",
              "  </thead>\n",
              "  <tbody>\n",
              "    <tr>\n",
              "      <th>0</th>\n",
              "      <td>1790</td>\n",
              "      <td>3,929,214</td>\n",
              "      <td>$44,377</td>\n",
              "      <td>1.13 cents</td>\n",
              "    </tr>\n",
              "    <tr>\n",
              "      <th>1</th>\n",
              "      <td>1800</td>\n",
              "      <td>5,308,483</td>\n",
              "      <td>$66,109</td>\n",
              "      <td>1.24 cents</td>\n",
              "    </tr>\n",
              "    <tr>\n",
              "      <th>2</th>\n",
              "      <td>1810</td>\n",
              "      <td>7,239,881</td>\n",
              "      <td>$178,445</td>\n",
              "      <td>2.46 cents</td>\n",
              "    </tr>\n",
              "    <tr>\n",
              "      <th>3</th>\n",
              "      <td>1820</td>\n",
              "      <td>9,633,822</td>\n",
              "      <td>$208,526</td>\n",
              "      <td>2.16 cents</td>\n",
              "    </tr>\n",
              "    <tr>\n",
              "      <th>4</th>\n",
              "      <td>1830</td>\n",
              "      <td>12,866,020</td>\n",
              "      <td>$378,545</td>\n",
              "      <td>2.94 cents</td>\n",
              "    </tr>\n",
              "  </tbody>\n",
              "</table>\n",
              "</div>"
            ],
            "text/plain": [
              "  Census Year Total Population Census Cost Average Cost Per Person\n",
              "0        1790        3,929,214     $44,377              1.13 cents\n",
              "1        1800        5,308,483     $66,109              1.24 cents\n",
              "2        1810        7,239,881    $178,445              2.46 cents\n",
              "3        1820        9,633,822    $208,526              2.16 cents\n",
              "4        1830       12,866,020    $378,545              2.94 cents"
            ]
          },
          "metadata": {},
          "execution_count": 4
        }
      ]
    },
    {
      "cell_type": "code",
      "metadata": {
        "colab": {
          "base_uri": "https://localhost:8080/",
          "height": 142
        },
        "id": "-fpMeQspP5Ep",
        "outputId": "21ca60c9-2167-4bb1-fbfd-9af567aef09b"
      },
      "source": [
        "df.tail(3)"
      ],
      "execution_count": 5,
      "outputs": [
        {
          "output_type": "execute_result",
          "data": {
            "text/html": [
              "<div>\n",
              "<style scoped>\n",
              "    .dataframe tbody tr th:only-of-type {\n",
              "        vertical-align: middle;\n",
              "    }\n",
              "\n",
              "    .dataframe tbody tr th {\n",
              "        vertical-align: top;\n",
              "    }\n",
              "\n",
              "    .dataframe thead th {\n",
              "        text-align: right;\n",
              "    }\n",
              "</style>\n",
              "<table border=\"1\" class=\"dataframe\">\n",
              "  <thead>\n",
              "    <tr style=\"text-align: right;\">\n",
              "      <th></th>\n",
              "      <th>Census Year</th>\n",
              "      <th>Total Population</th>\n",
              "      <th>Census Cost</th>\n",
              "      <th>Average Cost Per Person</th>\n",
              "    </tr>\n",
              "  </thead>\n",
              "  <tbody>\n",
              "    <tr>\n",
              "      <th>20</th>\n",
              "      <td>1990</td>\n",
              "      <td>248,718,301</td>\n",
              "      <td>$2,492,830,000</td>\n",
              "      <td>$10.02</td>\n",
              "    </tr>\n",
              "    <tr>\n",
              "      <th>21</th>\n",
              "      <td>2000</td>\n",
              "      <td>281,421,906</td>\n",
              "      <td>$4.5 Billion</td>\n",
              "      <td>$15.99</td>\n",
              "    </tr>\n",
              "    <tr>\n",
              "      <th>22</th>\n",
              "      <td>2010*</td>\n",
              "      <td>308,745,538</td>\n",
              "      <td>$13 Billion</td>\n",
              "      <td>$42.11</td>\n",
              "    </tr>\n",
              "  </tbody>\n",
              "</table>\n",
              "</div>"
            ],
            "text/plain": [
              "   Census Year Total Population     Census Cost Average Cost Per Person\n",
              "20        1990      248,718,301  $2,492,830,000                  $10.02\n",
              "21        2000      281,421,906    $4.5 Billion                  $15.99\n",
              "22       2010*      308,745,538     $13 Billion                  $42.11"
            ]
          },
          "metadata": {},
          "execution_count": 5
        }
      ]
    },
    {
      "cell_type": "code",
      "metadata": {
        "colab": {
          "base_uri": "https://localhost:8080/",
          "height": 80
        },
        "id": "5KplAOLKP7jU",
        "outputId": "ee74a8db-ecaf-4189-f0cd-453e8bb0f7fd"
      },
      "source": [
        "df.sample()"
      ],
      "execution_count": 6,
      "outputs": [
        {
          "output_type": "execute_result",
          "data": {
            "text/html": [
              "<div>\n",
              "<style scoped>\n",
              "    .dataframe tbody tr th:only-of-type {\n",
              "        vertical-align: middle;\n",
              "    }\n",
              "\n",
              "    .dataframe tbody tr th {\n",
              "        vertical-align: top;\n",
              "    }\n",
              "\n",
              "    .dataframe thead th {\n",
              "        text-align: right;\n",
              "    }\n",
              "</style>\n",
              "<table border=\"1\" class=\"dataframe\">\n",
              "  <thead>\n",
              "    <tr style=\"text-align: right;\">\n",
              "      <th></th>\n",
              "      <th>Census Year</th>\n",
              "      <th>Total Population</th>\n",
              "      <th>Census Cost</th>\n",
              "      <th>Average Cost Per Person</th>\n",
              "    </tr>\n",
              "  </thead>\n",
              "  <tbody>\n",
              "    <tr>\n",
              "      <th>13</th>\n",
              "      <td>1920</td>\n",
              "      <td>105,710,620</td>\n",
              "      <td>$25,117,000</td>\n",
              "      <td>23.76 cents</td>\n",
              "    </tr>\n",
              "  </tbody>\n",
              "</table>\n",
              "</div>"
            ],
            "text/plain": [
              "   Census Year Total Population  Census Cost Average Cost Per Person\n",
              "13        1920      105,710,620  $25,117,000             23.76 cents"
            ]
          },
          "metadata": {},
          "execution_count": 6
        }
      ]
    },
    {
      "cell_type": "code",
      "metadata": {
        "colab": {
          "base_uri": "https://localhost:8080/"
        },
        "id": "7TVhv1PJP-ju",
        "outputId": "1cab8812-ad9c-418d-dce5-2174fd0e4078"
      },
      "source": [
        "df.info()"
      ],
      "execution_count": 7,
      "outputs": [
        {
          "output_type": "stream",
          "name": "stdout",
          "text": [
            "<class 'pandas.core.frame.DataFrame'>\n",
            "RangeIndex: 23 entries, 0 to 22\n",
            "Data columns (total 4 columns):\n",
            " #   Column                   Non-Null Count  Dtype \n",
            "---  ------                   --------------  ----- \n",
            " 0   Census Year              23 non-null     object\n",
            " 1   Total Population         23 non-null     object\n",
            " 2   Census Cost              23 non-null     object\n",
            " 3   Average Cost Per Person  23 non-null     object\n",
            "dtypes: object(4)\n",
            "memory usage: 864.0+ bytes\n"
          ]
        }
      ]
    },
    {
      "cell_type": "code",
      "metadata": {
        "colab": {
          "base_uri": "https://localhost:8080/",
          "height": 172
        },
        "id": "BGHPAjV9QPqy",
        "outputId": "3c4202ae-a165-4a64-8659-726719087987"
      },
      "source": [
        "\n",
        "df.describe()"
      ],
      "execution_count": 8,
      "outputs": [
        {
          "output_type": "execute_result",
          "data": {
            "text/html": [
              "<div>\n",
              "<style scoped>\n",
              "    .dataframe tbody tr th:only-of-type {\n",
              "        vertical-align: middle;\n",
              "    }\n",
              "\n",
              "    .dataframe tbody tr th {\n",
              "        vertical-align: top;\n",
              "    }\n",
              "\n",
              "    .dataframe thead th {\n",
              "        text-align: right;\n",
              "    }\n",
              "</style>\n",
              "<table border=\"1\" class=\"dataframe\">\n",
              "  <thead>\n",
              "    <tr style=\"text-align: right;\">\n",
              "      <th></th>\n",
              "      <th>Census Year</th>\n",
              "      <th>Total Population</th>\n",
              "      <th>Census Cost</th>\n",
              "      <th>Average Cost Per Person</th>\n",
              "    </tr>\n",
              "  </thead>\n",
              "  <tbody>\n",
              "    <tr>\n",
              "      <th>count</th>\n",
              "      <td>23</td>\n",
              "      <td>23</td>\n",
              "      <td>23</td>\n",
              "      <td>23</td>\n",
              "    </tr>\n",
              "    <tr>\n",
              "      <th>unique</th>\n",
              "      <td>23</td>\n",
              "      <td>23</td>\n",
              "      <td>23</td>\n",
              "      <td>23</td>\n",
              "    </tr>\n",
              "    <tr>\n",
              "      <th>top</th>\n",
              "      <td>1830</td>\n",
              "      <td>179,323,175</td>\n",
              "      <td>$11,854,000</td>\n",
              "      <td>$10.02</td>\n",
              "    </tr>\n",
              "    <tr>\n",
              "      <th>freq</th>\n",
              "      <td>1</td>\n",
              "      <td>1</td>\n",
              "      <td>1</td>\n",
              "      <td>1</td>\n",
              "    </tr>\n",
              "  </tbody>\n",
              "</table>\n",
              "</div>"
            ],
            "text/plain": [
              "       Census Year Total Population  Census Cost Average Cost Per Person\n",
              "count           23               23           23                      23\n",
              "unique          23               23           23                      23\n",
              "top           1830      179,323,175  $11,854,000                  $10.02\n",
              "freq             1                1            1                       1"
            ]
          },
          "metadata": {},
          "execution_count": 8
        }
      ]
    },
    {
      "cell_type": "code",
      "metadata": {
        "colab": {
          "base_uri": "https://localhost:8080/"
        },
        "id": "Mea0OQgKC-q-",
        "outputId": "035f3fde-2682-42aa-d95d-8c4a40d3fb16"
      },
      "source": [
        "x = 17,169,458\n",
        "print(type(x))"
      ],
      "execution_count": 9,
      "outputs": [
        {
          "output_type": "stream",
          "name": "stdout",
          "text": [
            "<class 'tuple'>\n"
          ]
        }
      ]
    },
    {
      "cell_type": "code",
      "metadata": {
        "colab": {
          "base_uri": "https://localhost:8080/"
        },
        "id": "9Ym9iDe1DC7V",
        "outputId": "e80864b3-3615-4b6c-f0c5-b2c0562d9c90"
      },
      "source": [
        "y = \"123,456,789\"\n",
        "\n",
        "z = y.replace(\",\", \"\")\n",
        "\n",
        "print(z)\n",
        "\n",
        "type(z)"
      ],
      "execution_count": 10,
      "outputs": [
        {
          "output_type": "stream",
          "name": "stdout",
          "text": [
            "123456789\n"
          ]
        },
        {
          "output_type": "execute_result",
          "data": {
            "text/plain": [
              "str"
            ]
          },
          "metadata": {},
          "execution_count": 10
        }
      ]
    },
    {
      "cell_type": "code",
      "metadata": {
        "colab": {
          "base_uri": "https://localhost:8080/"
        },
        "id": "chgb_6jPDGAF",
        "outputId": "0b401ea0-4ccd-4dad-9e85-ed3849c9b1a4"
      },
      "source": [
        "a= int(z)\n",
        "\n",
        "print(a)\n",
        "\n",
        "type(a)"
      ],
      "execution_count": 11,
      "outputs": [
        {
          "output_type": "stream",
          "name": "stdout",
          "text": [
            "123456789\n"
          ]
        },
        {
          "output_type": "execute_result",
          "data": {
            "text/plain": [
              "int"
            ]
          },
          "metadata": {},
          "execution_count": 11
        }
      ]
    },
    {
      "cell_type": "code",
      "metadata": {
        "colab": {
          "base_uri": "https://localhost:8080/",
          "height": 758
        },
        "id": "8azxsR52DK2r",
        "outputId": "3d30d9f0-21a3-4f6c-cc4d-b0de5d8fe3e6"
      },
      "source": [
        "\n",
        "df[[\"Census Year\",\"Total Population\"]]"
      ],
      "execution_count": 12,
      "outputs": [
        {
          "output_type": "execute_result",
          "data": {
            "text/html": [
              "<div>\n",
              "<style scoped>\n",
              "    .dataframe tbody tr th:only-of-type {\n",
              "        vertical-align: middle;\n",
              "    }\n",
              "\n",
              "    .dataframe tbody tr th {\n",
              "        vertical-align: top;\n",
              "    }\n",
              "\n",
              "    .dataframe thead th {\n",
              "        text-align: right;\n",
              "    }\n",
              "</style>\n",
              "<table border=\"1\" class=\"dataframe\">\n",
              "  <thead>\n",
              "    <tr style=\"text-align: right;\">\n",
              "      <th></th>\n",
              "      <th>Census Year</th>\n",
              "      <th>Total Population</th>\n",
              "    </tr>\n",
              "  </thead>\n",
              "  <tbody>\n",
              "    <tr>\n",
              "      <th>0</th>\n",
              "      <td>1790</td>\n",
              "      <td>3,929,214</td>\n",
              "    </tr>\n",
              "    <tr>\n",
              "      <th>1</th>\n",
              "      <td>1800</td>\n",
              "      <td>5,308,483</td>\n",
              "    </tr>\n",
              "    <tr>\n",
              "      <th>2</th>\n",
              "      <td>1810</td>\n",
              "      <td>7,239,881</td>\n",
              "    </tr>\n",
              "    <tr>\n",
              "      <th>3</th>\n",
              "      <td>1820</td>\n",
              "      <td>9,633,822</td>\n",
              "    </tr>\n",
              "    <tr>\n",
              "      <th>4</th>\n",
              "      <td>1830</td>\n",
              "      <td>12,866,020</td>\n",
              "    </tr>\n",
              "    <tr>\n",
              "      <th>5</th>\n",
              "      <td>1840</td>\n",
              "      <td>17,069,458</td>\n",
              "    </tr>\n",
              "    <tr>\n",
              "      <th>6</th>\n",
              "      <td>1850</td>\n",
              "      <td>23,191,876</td>\n",
              "    </tr>\n",
              "    <tr>\n",
              "      <th>7</th>\n",
              "      <td>1860</td>\n",
              "      <td>31,443,321</td>\n",
              "    </tr>\n",
              "    <tr>\n",
              "      <th>8</th>\n",
              "      <td>1870</td>\n",
              "      <td>38,558,371</td>\n",
              "    </tr>\n",
              "    <tr>\n",
              "      <th>9</th>\n",
              "      <td>1880</td>\n",
              "      <td>50,155,783</td>\n",
              "    </tr>\n",
              "    <tr>\n",
              "      <th>10</th>\n",
              "      <td>1890</td>\n",
              "      <td>62,979,766</td>\n",
              "    </tr>\n",
              "    <tr>\n",
              "      <th>11</th>\n",
              "      <td>1900</td>\n",
              "      <td>76,303,387</td>\n",
              "    </tr>\n",
              "    <tr>\n",
              "      <th>12</th>\n",
              "      <td>1910</td>\n",
              "      <td>91,972,266</td>\n",
              "    </tr>\n",
              "    <tr>\n",
              "      <th>13</th>\n",
              "      <td>1920</td>\n",
              "      <td>105,710,620</td>\n",
              "    </tr>\n",
              "    <tr>\n",
              "      <th>14</th>\n",
              "      <td>1930</td>\n",
              "      <td>122,775,046</td>\n",
              "    </tr>\n",
              "    <tr>\n",
              "      <th>15</th>\n",
              "      <td>1940</td>\n",
              "      <td>131,669,275</td>\n",
              "    </tr>\n",
              "    <tr>\n",
              "      <th>16</th>\n",
              "      <td>1950</td>\n",
              "      <td>151,325,798</td>\n",
              "    </tr>\n",
              "    <tr>\n",
              "      <th>17</th>\n",
              "      <td>1960</td>\n",
              "      <td>179,323,175</td>\n",
              "    </tr>\n",
              "    <tr>\n",
              "      <th>18</th>\n",
              "      <td>1970</td>\n",
              "      <td>203,302,031</td>\n",
              "    </tr>\n",
              "    <tr>\n",
              "      <th>19</th>\n",
              "      <td>1980</td>\n",
              "      <td>226,542,199</td>\n",
              "    </tr>\n",
              "    <tr>\n",
              "      <th>20</th>\n",
              "      <td>1990</td>\n",
              "      <td>248,718,301</td>\n",
              "    </tr>\n",
              "    <tr>\n",
              "      <th>21</th>\n",
              "      <td>2000</td>\n",
              "      <td>281,421,906</td>\n",
              "    </tr>\n",
              "    <tr>\n",
              "      <th>22</th>\n",
              "      <td>2010*</td>\n",
              "      <td>308,745,538</td>\n",
              "    </tr>\n",
              "  </tbody>\n",
              "</table>\n",
              "</div>"
            ],
            "text/plain": [
              "   Census Year Total Population\n",
              "0         1790        3,929,214\n",
              "1         1800        5,308,483\n",
              "2         1810        7,239,881\n",
              "3         1820        9,633,822\n",
              "4         1830       12,866,020\n",
              "5         1840       17,069,458\n",
              "6         1850       23,191,876\n",
              "7         1860       31,443,321\n",
              "8         1870       38,558,371\n",
              "9         1880       50,155,783\n",
              "10        1890       62,979,766\n",
              "11        1900       76,303,387\n",
              "12        1910       91,972,266\n",
              "13        1920      105,710,620\n",
              "14        1930      122,775,046\n",
              "15        1940      131,669,275\n",
              "16        1950      151,325,798\n",
              "17        1960      179,323,175\n",
              "18        1970      203,302,031\n",
              "19        1980      226,542,199\n",
              "20        1990      248,718,301\n",
              "21        2000      281,421,906\n",
              "22       2010*      308,745,538"
            ]
          },
          "metadata": {},
          "execution_count": 12
        }
      ]
    },
    {
      "cell_type": "code",
      "metadata": {
        "colab": {
          "base_uri": "https://localhost:8080/"
        },
        "id": "f0V8XNMADOcM",
        "outputId": "579ba7ad-9085-4004-f03e-e13c807a2fba"
      },
      "source": [
        "# There is difference between series and data frame.\n",
        "# df[\"Total Population\"] return a series which has a tolist() function\n",
        "# df[[\"Total Population\"]] return a data frame which has no tolist() function\n",
        "\n",
        "pop_list = df[\"Total Population\"].tolist()\n",
        "pop_list"
      ],
      "execution_count": 13,
      "outputs": [
        {
          "output_type": "execute_result",
          "data": {
            "text/plain": [
              "['3,929,214',\n",
              " '5,308,483',\n",
              " '7,239,881',\n",
              " '9,633,822',\n",
              " '12,866,020',\n",
              " '17,069,458',\n",
              " '23,191,876',\n",
              " '31,443,321',\n",
              " '38,558,371',\n",
              " '50,155,783',\n",
              " '62,979,766',\n",
              " '76,303,387',\n",
              " '91,972,266',\n",
              " '105,710,620',\n",
              " '122,775,046',\n",
              " '131,669,275',\n",
              " '151,325,798',\n",
              " '179,323,175',\n",
              " '203,302,031',\n",
              " '226,542,199',\n",
              " '248,718,301',\n",
              " '281,421,906',\n",
              " '308,745,538']"
            ]
          },
          "metadata": {},
          "execution_count": 13
        }
      ]
    },
    {
      "cell_type": "code",
      "metadata": {
        "colab": {
          "base_uri": "https://localhost:8080/"
        },
        "id": "3BRtcYCZDR61",
        "outputId": "89ae959e-f68b-4382-9001-804061ad5cc8"
      },
      "source": [
        "pop_list2 = [int(pop.replace(\",\",\"\")) for pop in pop_list]\n",
        "pop_list2"
      ],
      "execution_count": 14,
      "outputs": [
        {
          "output_type": "execute_result",
          "data": {
            "text/plain": [
              "[3929214,\n",
              " 5308483,\n",
              " 7239881,\n",
              " 9633822,\n",
              " 12866020,\n",
              " 17069458,\n",
              " 23191876,\n",
              " 31443321,\n",
              " 38558371,\n",
              " 50155783,\n",
              " 62979766,\n",
              " 76303387,\n",
              " 91972266,\n",
              " 105710620,\n",
              " 122775046,\n",
              " 131669275,\n",
              " 151325798,\n",
              " 179323175,\n",
              " 203302031,\n",
              " 226542199,\n",
              " 248718301,\n",
              " 281421906,\n",
              " 308745538]"
            ]
          },
          "metadata": {},
          "execution_count": 14
        }
      ]
    },
    {
      "cell_type": "code",
      "metadata": {
        "colab": {
          "base_uri": "https://localhost:8080/"
        },
        "id": "olXhqhjZDVMG",
        "outputId": "140eb590-1b65-4483-84d9-4f43eba28019"
      },
      "source": [
        "def cleanse_pop(a_string):\n",
        "  return int(a_string.replace(\",\",\"\"))\n",
        "\n",
        "\n",
        "cleanse_pop(\"123,456\")"
      ],
      "execution_count": 15,
      "outputs": [
        {
          "output_type": "execute_result",
          "data": {
            "text/plain": [
              "123456"
            ]
          },
          "metadata": {},
          "execution_count": 15
        }
      ]
    },
    {
      "cell_type": "code",
      "metadata": {
        "colab": {
          "base_uri": "https://localhost:8080/",
          "height": 203
        },
        "id": "vKiJZfOODY0P",
        "outputId": "ec20c114-1399-42a7-9051-8f4a5354ece0"
      },
      "source": [
        "\n",
        "df[\"tot_pop\"] = df[\"Total Population\"].apply(cleanse_pop)\n",
        "\n",
        "df.head()"
      ],
      "execution_count": 16,
      "outputs": [
        {
          "output_type": "execute_result",
          "data": {
            "text/html": [
              "<div>\n",
              "<style scoped>\n",
              "    .dataframe tbody tr th:only-of-type {\n",
              "        vertical-align: middle;\n",
              "    }\n",
              "\n",
              "    .dataframe tbody tr th {\n",
              "        vertical-align: top;\n",
              "    }\n",
              "\n",
              "    .dataframe thead th {\n",
              "        text-align: right;\n",
              "    }\n",
              "</style>\n",
              "<table border=\"1\" class=\"dataframe\">\n",
              "  <thead>\n",
              "    <tr style=\"text-align: right;\">\n",
              "      <th></th>\n",
              "      <th>Census Year</th>\n",
              "      <th>Total Population</th>\n",
              "      <th>Census Cost</th>\n",
              "      <th>Average Cost Per Person</th>\n",
              "      <th>tot_pop</th>\n",
              "    </tr>\n",
              "  </thead>\n",
              "  <tbody>\n",
              "    <tr>\n",
              "      <th>0</th>\n",
              "      <td>1790</td>\n",
              "      <td>3,929,214</td>\n",
              "      <td>$44,377</td>\n",
              "      <td>1.13 cents</td>\n",
              "      <td>3929214</td>\n",
              "    </tr>\n",
              "    <tr>\n",
              "      <th>1</th>\n",
              "      <td>1800</td>\n",
              "      <td>5,308,483</td>\n",
              "      <td>$66,109</td>\n",
              "      <td>1.24 cents</td>\n",
              "      <td>5308483</td>\n",
              "    </tr>\n",
              "    <tr>\n",
              "      <th>2</th>\n",
              "      <td>1810</td>\n",
              "      <td>7,239,881</td>\n",
              "      <td>$178,445</td>\n",
              "      <td>2.46 cents</td>\n",
              "      <td>7239881</td>\n",
              "    </tr>\n",
              "    <tr>\n",
              "      <th>3</th>\n",
              "      <td>1820</td>\n",
              "      <td>9,633,822</td>\n",
              "      <td>$208,526</td>\n",
              "      <td>2.16 cents</td>\n",
              "      <td>9633822</td>\n",
              "    </tr>\n",
              "    <tr>\n",
              "      <th>4</th>\n",
              "      <td>1830</td>\n",
              "      <td>12,866,020</td>\n",
              "      <td>$378,545</td>\n",
              "      <td>2.94 cents</td>\n",
              "      <td>12866020</td>\n",
              "    </tr>\n",
              "  </tbody>\n",
              "</table>\n",
              "</div>"
            ],
            "text/plain": [
              "  Census Year Total Population Census Cost Average Cost Per Person   tot_pop\n",
              "0        1790        3,929,214     $44,377              1.13 cents   3929214\n",
              "1        1800        5,308,483     $66,109              1.24 cents   5308483\n",
              "2        1810        7,239,881    $178,445              2.46 cents   7239881\n",
              "3        1820        9,633,822    $208,526              2.16 cents   9633822\n",
              "4        1830       12,866,020    $378,545              2.94 cents  12866020"
            ]
          },
          "metadata": {},
          "execution_count": 16
        }
      ]
    },
    {
      "cell_type": "code",
      "metadata": {
        "colab": {
          "base_uri": "https://localhost:8080/"
        },
        "id": "TkXbb3mYDbyX",
        "outputId": "2ff82297-7ac3-43cd-fd0e-bba3fe8d9299"
      },
      "source": [
        "\n",
        "df.info()"
      ],
      "execution_count": 17,
      "outputs": [
        {
          "output_type": "stream",
          "name": "stdout",
          "text": [
            "<class 'pandas.core.frame.DataFrame'>\n",
            "RangeIndex: 23 entries, 0 to 22\n",
            "Data columns (total 5 columns):\n",
            " #   Column                   Non-Null Count  Dtype \n",
            "---  ------                   --------------  ----- \n",
            " 0   Census Year              23 non-null     object\n",
            " 1   Total Population         23 non-null     object\n",
            " 2   Census Cost              23 non-null     object\n",
            " 3   Average Cost Per Person  23 non-null     object\n",
            " 4   tot_pop                  23 non-null     int64 \n",
            "dtypes: int64(1), object(4)\n",
            "memory usage: 1.0+ KB\n"
          ]
        }
      ]
    },
    {
      "cell_type": "code",
      "metadata": {
        "colab": {
          "base_uri": "https://localhost:8080/",
          "height": 295
        },
        "id": "Mnm0_zRzDfqk",
        "outputId": "8c9e6576-58f6-43e6-f004-e485fd3712f1"
      },
      "source": [
        "df.describe()\n"
      ],
      "execution_count": 18,
      "outputs": [
        {
          "output_type": "execute_result",
          "data": {
            "text/html": [
              "<div>\n",
              "<style scoped>\n",
              "    .dataframe tbody tr th:only-of-type {\n",
              "        vertical-align: middle;\n",
              "    }\n",
              "\n",
              "    .dataframe tbody tr th {\n",
              "        vertical-align: top;\n",
              "    }\n",
              "\n",
              "    .dataframe thead th {\n",
              "        text-align: right;\n",
              "    }\n",
              "</style>\n",
              "<table border=\"1\" class=\"dataframe\">\n",
              "  <thead>\n",
              "    <tr style=\"text-align: right;\">\n",
              "      <th></th>\n",
              "      <th>tot_pop</th>\n",
              "    </tr>\n",
              "  </thead>\n",
              "  <tbody>\n",
              "    <tr>\n",
              "      <th>count</th>\n",
              "      <td>2.300000e+01</td>\n",
              "    </tr>\n",
              "    <tr>\n",
              "      <th>mean</th>\n",
              "      <td>1.039211e+08</td>\n",
              "    </tr>\n",
              "    <tr>\n",
              "      <th>std</th>\n",
              "      <td>9.622629e+07</td>\n",
              "    </tr>\n",
              "    <tr>\n",
              "      <th>min</th>\n",
              "      <td>3.929214e+06</td>\n",
              "    </tr>\n",
              "    <tr>\n",
              "      <th>25%</th>\n",
              "      <td>2.013067e+07</td>\n",
              "    </tr>\n",
              "    <tr>\n",
              "      <th>50%</th>\n",
              "      <td>7.630339e+07</td>\n",
              "    </tr>\n",
              "    <tr>\n",
              "      <th>75%</th>\n",
              "      <td>1.653245e+08</td>\n",
              "    </tr>\n",
              "    <tr>\n",
              "      <th>max</th>\n",
              "      <td>3.087455e+08</td>\n",
              "    </tr>\n",
              "  </tbody>\n",
              "</table>\n",
              "</div>"
            ],
            "text/plain": [
              "            tot_pop\n",
              "count  2.300000e+01\n",
              "mean   1.039211e+08\n",
              "std    9.622629e+07\n",
              "min    3.929214e+06\n",
              "25%    2.013067e+07\n",
              "50%    7.630339e+07\n",
              "75%    1.653245e+08\n",
              "max    3.087455e+08"
            ]
          },
          "metadata": {},
          "execution_count": 18
        }
      ]
    },
    {
      "cell_type": "code",
      "metadata": {
        "colab": {
          "base_uri": "https://localhost:8080/",
          "height": 388
        },
        "id": "gx-P9E53DkCR",
        "outputId": "cc53d749-9581-4e7e-9d1b-1579afc1108f"
      },
      "source": [
        "df.describe(include = \"all\")"
      ],
      "execution_count": 19,
      "outputs": [
        {
          "output_type": "execute_result",
          "data": {
            "text/html": [
              "<div>\n",
              "<style scoped>\n",
              "    .dataframe tbody tr th:only-of-type {\n",
              "        vertical-align: middle;\n",
              "    }\n",
              "\n",
              "    .dataframe tbody tr th {\n",
              "        vertical-align: top;\n",
              "    }\n",
              "\n",
              "    .dataframe thead th {\n",
              "        text-align: right;\n",
              "    }\n",
              "</style>\n",
              "<table border=\"1\" class=\"dataframe\">\n",
              "  <thead>\n",
              "    <tr style=\"text-align: right;\">\n",
              "      <th></th>\n",
              "      <th>Census Year</th>\n",
              "      <th>Total Population</th>\n",
              "      <th>Census Cost</th>\n",
              "      <th>Average Cost Per Person</th>\n",
              "      <th>tot_pop</th>\n",
              "    </tr>\n",
              "  </thead>\n",
              "  <tbody>\n",
              "    <tr>\n",
              "      <th>count</th>\n",
              "      <td>23</td>\n",
              "      <td>23</td>\n",
              "      <td>23</td>\n",
              "      <td>23</td>\n",
              "      <td>2.300000e+01</td>\n",
              "    </tr>\n",
              "    <tr>\n",
              "      <th>unique</th>\n",
              "      <td>23</td>\n",
              "      <td>23</td>\n",
              "      <td>23</td>\n",
              "      <td>23</td>\n",
              "      <td>NaN</td>\n",
              "    </tr>\n",
              "    <tr>\n",
              "      <th>top</th>\n",
              "      <td>1830</td>\n",
              "      <td>179,323,175</td>\n",
              "      <td>$11,854,000</td>\n",
              "      <td>$10.02</td>\n",
              "      <td>NaN</td>\n",
              "    </tr>\n",
              "    <tr>\n",
              "      <th>freq</th>\n",
              "      <td>1</td>\n",
              "      <td>1</td>\n",
              "      <td>1</td>\n",
              "      <td>1</td>\n",
              "      <td>NaN</td>\n",
              "    </tr>\n",
              "    <tr>\n",
              "      <th>mean</th>\n",
              "      <td>NaN</td>\n",
              "      <td>NaN</td>\n",
              "      <td>NaN</td>\n",
              "      <td>NaN</td>\n",
              "      <td>1.039211e+08</td>\n",
              "    </tr>\n",
              "    <tr>\n",
              "      <th>std</th>\n",
              "      <td>NaN</td>\n",
              "      <td>NaN</td>\n",
              "      <td>NaN</td>\n",
              "      <td>NaN</td>\n",
              "      <td>9.622629e+07</td>\n",
              "    </tr>\n",
              "    <tr>\n",
              "      <th>min</th>\n",
              "      <td>NaN</td>\n",
              "      <td>NaN</td>\n",
              "      <td>NaN</td>\n",
              "      <td>NaN</td>\n",
              "      <td>3.929214e+06</td>\n",
              "    </tr>\n",
              "    <tr>\n",
              "      <th>25%</th>\n",
              "      <td>NaN</td>\n",
              "      <td>NaN</td>\n",
              "      <td>NaN</td>\n",
              "      <td>NaN</td>\n",
              "      <td>2.013067e+07</td>\n",
              "    </tr>\n",
              "    <tr>\n",
              "      <th>50%</th>\n",
              "      <td>NaN</td>\n",
              "      <td>NaN</td>\n",
              "      <td>NaN</td>\n",
              "      <td>NaN</td>\n",
              "      <td>7.630339e+07</td>\n",
              "    </tr>\n",
              "    <tr>\n",
              "      <th>75%</th>\n",
              "      <td>NaN</td>\n",
              "      <td>NaN</td>\n",
              "      <td>NaN</td>\n",
              "      <td>NaN</td>\n",
              "      <td>1.653245e+08</td>\n",
              "    </tr>\n",
              "    <tr>\n",
              "      <th>max</th>\n",
              "      <td>NaN</td>\n",
              "      <td>NaN</td>\n",
              "      <td>NaN</td>\n",
              "      <td>NaN</td>\n",
              "      <td>3.087455e+08</td>\n",
              "    </tr>\n",
              "  </tbody>\n",
              "</table>\n",
              "</div>"
            ],
            "text/plain": [
              "       Census Year Total Population  ... Average Cost Per Person       tot_pop\n",
              "count           23               23  ...                      23  2.300000e+01\n",
              "unique          23               23  ...                      23           NaN\n",
              "top           1830      179,323,175  ...                  $10.02           NaN\n",
              "freq             1                1  ...                       1           NaN\n",
              "mean           NaN              NaN  ...                     NaN  1.039211e+08\n",
              "std            NaN              NaN  ...                     NaN  9.622629e+07\n",
              "min            NaN              NaN  ...                     NaN  3.929214e+06\n",
              "25%            NaN              NaN  ...                     NaN  2.013067e+07\n",
              "50%            NaN              NaN  ...                     NaN  7.630339e+07\n",
              "75%            NaN              NaN  ...                     NaN  1.653245e+08\n",
              "max            NaN              NaN  ...                     NaN  3.087455e+08\n",
              "\n",
              "[11 rows x 5 columns]"
            ]
          },
          "metadata": {},
          "execution_count": 19
        }
      ]
    },
    {
      "cell_type": "code",
      "metadata": {
        "id": "baHB-8gvDnfu"
      },
      "source": [
        ""
      ],
      "execution_count": null,
      "outputs": []
    }
  ]
}