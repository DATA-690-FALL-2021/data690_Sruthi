{
  "nbformat": 4,
  "nbformat_minor": 0,
  "metadata": {
    "colab": {
      "name": "Assignment_01.ipynb",
      "provenance": [],
      "authorship_tag": "ABX9TyO9LWYhNi49Fafd/ACZw4wL",
      "include_colab_link": true
    },
    "kernelspec": {
      "name": "python3",
      "display_name": "Python 3"
    },
    "language_info": {
      "name": "python"
    }
  },
  "cells": [
    {
      "cell_type": "markdown",
      "metadata": {
        "id": "view-in-github",
        "colab_type": "text"
      },
      "source": [
        "<a href=\"https://colab.research.google.com/github/sruthib22/data690_Sruthi/blob/main/Assignment_01/Assignment_01.ipynb\" target=\"_parent\"><img src=\"https://colab.research.google.com/assets/colab-badge.svg\" alt=\"Open In Colab\"/></a>"
      ]
    },
    {
      "cell_type": "markdown",
      "metadata": {
        "id": "Gvhj1pEKOCB_"
      },
      "source": [
        "# Assignment 1 for DATA 690 Fall 2021\n",
        "- Instructor : Dr. Jay Wang\n",
        "- Student : Sruthi Batchala\n",
        "- Date : 09/02/2021\n",
        "\n",
        "This is for demonstarting the use of Jupyter Notebook\n"
      ]
    },
    {
      "cell_type": "markdown",
      "metadata": {
        "id": "tSWp1BVwQhmE"
      },
      "source": [
        "## 1. Simplest python Code"
      ]
    },
    {
      "cell_type": "code",
      "metadata": {
        "colab": {
          "base_uri": "https://localhost:8080/"
        },
        "id": "RWJVSAJqN2OV",
        "outputId": "b3f42161-53f5-4e84-e94c-67fda844f71c"
      },
      "source": [
        "print(\"Hello World\")   # This is the basic hello world program"
      ],
      "execution_count": 1,
      "outputs": [
        {
          "output_type": "stream",
          "name": "stdout",
          "text": [
            "Hello World\n"
          ]
        }
      ]
    },
    {
      "cell_type": "markdown",
      "metadata": {
        "id": "Kk3MBG4_P-Te"
      },
      "source": [
        "## 2. perform multiplication"
      ]
    },
    {
      "cell_type": "code",
      "metadata": {
        "colab": {
          "base_uri": "https://localhost:8080/"
        },
        "id": "O5aqIQbgPSuZ",
        "outputId": "76d02826-44de-4901-ff6e-12fea5629914"
      },
      "source": [
        "x = 10 * 2\n",
        "print(x)"
      ],
      "execution_count": 2,
      "outputs": [
        {
          "output_type": "stream",
          "name": "stdout",
          "text": [
            "20\n"
          ]
        }
      ]
    },
    {
      "cell_type": "markdown",
      "metadata": {
        "id": "fS3oaljhQOpu"
      },
      "source": [
        "## 3. perform division"
      ]
    },
    {
      "cell_type": "code",
      "metadata": {
        "colab": {
          "base_uri": "https://localhost:8080/"
        },
        "id": "aRKl9g0vPYQP",
        "outputId": "55c72628-45dd-4e63-ed96-d025f94b943d"
      },
      "source": [
        "y = 100\n",
        "z = y / x\n",
        "print(z)"
      ],
      "execution_count": 5,
      "outputs": [
        {
          "output_type": "stream",
          "name": "stdout",
          "text": [
            "5.0\n"
          ]
        }
      ]
    },
    {
      "cell_type": "code",
      "metadata": {
        "colab": {
          "base_uri": "https://localhost:8080/"
        },
        "id": "U3UYEMc6Pfi9",
        "outputId": "a5e08160-4a10-407c-ce4d-e75013264f0a"
      },
      "source": [
        "a = 100\n",
        "b = a // x\n",
        "print(b)"
      ],
      "execution_count": 4,
      "outputs": [
        {
          "output_type": "stream",
          "name": "stdout",
          "text": [
            "5\n"
          ]
        }
      ]
    }
  ]
}